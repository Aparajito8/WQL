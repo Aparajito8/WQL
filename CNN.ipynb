{
 "cells": [
  {
   "cell_type": "code",
   "execution_count": 1,
   "id": "710d2522-b331-447d-ba1f-cf32c43a919c",
   "metadata": {},
   "outputs": [],
   "source": [
    "# 导入包\n",
    "import os\n",
    "import cv2\n",
    "import math\n",
    "import random\n",
    "import numpy as np\n",
    "import pandas as pd\n",
    "import mediapipe as mp\n",
    "import tensorflow as tf\n",
    "from keras.models import Sequential\n",
    "from collections import Counter\n",
    "from matplotlib import pyplot as plt\n",
    "from sklearn.metrics import accuracy_score\n",
    "from tensorflow.keras.optimizers import Adam\n",
    "from sklearn.preprocessing import MinMaxScaler\n",
    "from tensorflow.keras.models import Sequential\n",
    "from tensorflow.keras.utils import to_categorical\n",
    "from sklearn.metrics import ConfusionMatrixDisplay\n",
    "from tensorflow.keras.layers import Conv1D, MaxPooling1D, Flatten, Dense, Dropout\n",
    "from tensorflow.keras.callbacks import EarlyStopping\n",
    "from tensorflow.keras.regularizers import l2\n",
    "\n",
    "from tensorflow.keras.models import Model\n",
    "from tensorflow.keras.layers import Input, Conv1D, BatchNormalization, Activation, MaxPooling1D, Dense, Flatten"
   ]
  },
  {
   "cell_type": "code",
   "execution_count": 2,
   "id": "1b2dbf72-161c-41f0-8f83-8f98118b68a4",
   "metadata": {},
   "outputs": [],
   "source": [
    "actions = np.array(['Afraid', 'Excited', 'Annoyed', 'Bored' , 'Angry' , 'Happy'])"
   ]
  },
  {
   "cell_type": "code",
   "execution_count": 3,
   "id": "b3213fb7-cb9e-40a0-adec-1de87b98044c",
   "metadata": {},
   "outputs": [],
   "source": [
    "indices_to_keep = [0, 11, 12, 13, 14, 15, 16, 23, 24, 25, 26, 27, 28]"
   ]
  },
  {
   "cell_type": "code",
   "execution_count": 4,
   "id": "187bf73c-e0b6-48d6-bac3-83d5dd900f7f",
   "metadata": {},
   "outputs": [],
   "source": [
    "label_map = {label:num for num, label in enumerate(actions)}"
   ]
  },
  {
   "cell_type": "code",
   "execution_count": 5,
   "id": "1c1b7076-0fe0-45ed-88c8-4e98fff3f2a7",
   "metadata": {},
   "outputs": [
    {
     "data": {
      "text/plain": [
       "{'Afraid': 0, 'Excited': 1, 'Annoyed': 2, 'Bored': 3, 'Angry': 4, 'Happy': 5}"
      ]
     },
     "execution_count": 5,
     "metadata": {},
     "output_type": "execute_result"
    }
   ],
   "source": [
    "label_map"
   ]
  },
  {
   "cell_type": "code",
   "execution_count": 6,
   "id": "227f4238-ccb6-4a75-8686-aec2c2a9e86f",
   "metadata": {},
   "outputs": [],
   "source": [
    "# 提取距离速度加速度方法\n",
    "def calc_baseline(action_list):\n",
    "    left_shoulder_right_shoulder_distance_list = []\n",
    "    left_shoulder_left_elbow_distance_list = []\n",
    "    left_elbow_left_wrist_distance_list = []\n",
    "    left_hip_left_knee_distance_list = []\n",
    "    std_list = []\n",
    "    \n",
    "    for i in range(len(action_list)):\n",
    "        left_shoulder_right_shoulder_distance = math.hypot(action_list[i][11].x-action_list[i][12].x, action_list[i][11].y-action_list[i][12].y)\n",
    "        left_shoulder_left_elbow_distance = math.hypot(action_list[i][11].x-action_list[i][13].x, action_list[i][11].y-action_list[i][13].y)\n",
    "        left_elbow_left_wrist_distance = math.hypot(action_list[i][13].x-action_list[i][15].x, action_list[i][13].y-action_list[i][15].y)\n",
    "        left_hip_left_knee_distance = math.hypot(action_list[i][23].x-action_list[i][25].x, action_list[i][23].y-action_list[i][25].y)\n",
    "    \n",
    "        left_shoulder_right_shoulder_distance_list.append(left_shoulder_right_shoulder_distance)\n",
    "        left_shoulder_left_elbow_distance_list.append(left_shoulder_left_elbow_distance)\n",
    "        left_elbow_left_wrist_distance_list.append(left_elbow_left_wrist_distance)\n",
    "        left_hip_left_knee_distance_list.append(left_hip_left_knee_distance)\n",
    "        \n",
    "    std0 = np.array(left_shoulder_right_shoulder_distance_list).std() \n",
    "    std1 = np.array(left_shoulder_left_elbow_distance_list).std()\n",
    "    std2 = np.array(left_elbow_left_wrist_distance_list).std()\n",
    "    std3 = np.array(left_hip_left_knee_distance_list).std()\n",
    "    std_list = [std0, std1, std2, std3]\n",
    "    std_min = min(std_list)\n",
    "    std_index = std_list.index(std_min)\n",
    "    if std_index == 0:\n",
    "        norm_list = left_shoulder_right_shoulder_distance_list\n",
    "    elif std_index == 1:\n",
    "        norm_list = left_shoulder_left_elbow_distance_list\n",
    "    elif std_index == 2:\n",
    "        norm_list = left_elbow_left_wrist_distance_list\n",
    "    elif std_index == 3:\n",
    "        norm_list = left_hip_left_knee_distance_list\n",
    "    return norm_list, std_index\n",
    "\n",
    "\n",
    "def calc_all(action_list):\n",
    "    norm_list, std_num = calc_baseline(action_list)\n",
    "\n",
    "    left_ankle_left_hip_distance_list = []\n",
    "    right_ankle_right_hip_distance_list = []\n",
    "    left_wrist_left_shoulder_distance_list = []\n",
    "    right_wrist_right_shoulder_distance_list = []\n",
    "    left_wrist_nose_distance_list = []\n",
    "    right_wrist_nose_distance_list = []\n",
    "    left_wrist_left_hip_distance_list = []\n",
    "    right_wrist_right_hip_distance_list = []\n",
    "    \n",
    "    for i in range(len(action_list)):\n",
    "        left_ankle_left_hip_distance        = math.hypot(action_list[i][27].x-action_list[i][23].x, action_list[i][27].y-action_list[i][23].y)\n",
    "        right_ankle_right_hip_distance      = math.hypot(action_list[i][28].x-action_list[i][24].x, action_list[i][28].y-action_list[i][24].y)\n",
    "        left_wrist_left_shoulder_distance   = math.hypot(action_list[i][15].x-action_list[i][11].x, action_list[i][15].y-action_list[i][11].y)\n",
    "        right_wrist_right_shoulder_distance = math.hypot(action_list[i][16].x-action_list[i][12].x, action_list[i][16].y-action_list[i][12].y)\n",
    "        left_wrist_nose_distance            = math.hypot(action_list[i][15].x-action_list[i][0].x, action_list[i][15].y-action_list[i][0].y)\n",
    "        right_wrist_nose_distance           = math.hypot(action_list[i][16].x-action_list[i][0].x, action_list[i][16].y-action_list[i][0].y)\n",
    "        left_wrist_left_hip_distance        = math.hypot(action_list[i][15].x-action_list[i][23].x, action_list[i][15].y-action_list[i][23].y)\n",
    "        right_wrist_right_hip_distance      = math.hypot(action_list[i][16].x-action_list[i][24].x, action_list[i][16].y-action_list[i][24].y)\n",
    "\n",
    "        left_ankle_left_hip_distance_list.append(left_ankle_left_hip_distance)\n",
    "        right_ankle_right_hip_distance_list.append(right_ankle_right_hip_distance)\n",
    "        left_wrist_left_shoulder_distance_list.append(left_wrist_left_shoulder_distance)\n",
    "        right_wrist_right_shoulder_distance_list.append(right_wrist_right_shoulder_distance)\n",
    "        left_wrist_nose_distance_list.append(left_wrist_nose_distance)\n",
    "        right_wrist_nose_distance_list.append(right_wrist_nose_distance)\n",
    "        left_wrist_left_hip_distance_list.append(left_wrist_left_hip_distance)\n",
    "        right_wrist_right_hip_distance_list.append(right_wrist_right_hip_distance)\n",
    "        \n",
    "    # 计算速度\n",
    "    left_ankle_velocity_list = []\n",
    "    right_ankle_velocity_list = []\n",
    "    left_hip_velocity_list = []\n",
    "    right_hip_velocity_list = []\n",
    "    left_wrist_velocity_list = []\n",
    "    right_wrist_velocity_list = []\n",
    "\n",
    "    for i in range(len(action_list)-1):\n",
    "        left_ankle_velocity     = math.hypot(action_list[i+1][27].x-action_list[i][27].x, action_list[i+1][27].y-action_list[i][27].y)/cut_frame\n",
    "        right_ankle_velocity    = math.hypot(action_list[i+1][28].x-action_list[i][28].x, action_list[i+1][28].y-action_list[i][28].y)/cut_frame\n",
    "        left_hip_velocity       = math.hypot(action_list[i+1][23].x-action_list[i][23].x, action_list[i+1][23].y-action_list[i][23].y)/cut_frame\n",
    "        right_hip_velocity      = math.hypot(action_list[i+1][24].x-action_list[i][24].x, action_list[i+1][24].y-action_list[i][24].y)/cut_frame\n",
    "        left_wrist_velocity     = math.hypot(action_list[i+1][15].x-action_list[i][15].x, action_list[i+1][15].y-action_list[i][15].y)/cut_frame\n",
    "        right_wrist_velocity    = math.hypot(action_list[i+1][16].x-action_list[i][16].x, action_list[i+1][16].y-action_list[i][16].y)/cut_frame\n",
    "\n",
    "        left_ankle_velocity_list.append(left_ankle_velocity)\n",
    "        right_ankle_velocity_list.append(right_ankle_velocity)\n",
    "        left_hip_velocity_list.append(left_hip_velocity)\n",
    "        right_hip_velocity_list.append(right_hip_velocity)\n",
    "        left_wrist_velocity_list.append(left_wrist_velocity)\n",
    "        right_wrist_velocity_list.append(right_wrist_velocity)\n",
    "        \n",
    "    # 计算加速度\n",
    "    left_ankle_acceleration_list = []\n",
    "    right_ankle_acceleration_list = []\n",
    "    left_hip_acceleration_list = []\n",
    "    right_hip_acceleration_list = []\n",
    "    left_wrist_acceleration_list = []\n",
    "    right_wrist_acceleration_list = []\n",
    "\n",
    "    for i in range(len(action_list)-2):\n",
    "        left_ankle_acceleration = (left_ankle_velocity_list[i+1]-left_ankle_velocity_list[i])/cut_frame\n",
    "        right_ankle_acceleration= (right_ankle_velocity_list[i+1]-right_ankle_velocity_list[i])/cut_frame\n",
    "        left_hip_acceleration   = (left_hip_velocity_list[i+1]-left_hip_velocity_list[i])/cut_frame \n",
    "        right_hip_acceleration  = (right_hip_velocity_list[i+1]-right_hip_velocity_list[i])/cut_frame \n",
    "        left_wrist_acceleration = (left_wrist_velocity_list[i+1]-left_wrist_velocity_list[i])/cut_frame  \n",
    "        right_wrist_acceleration= (right_wrist_velocity_list[i+1]-right_wrist_velocity_list[i])/cut_frame\n",
    "\n",
    "        left_ankle_acceleration_list.append(left_ankle_acceleration)\n",
    "        right_ankle_acceleration_list.append(right_ankle_acceleration)\n",
    "        left_hip_acceleration_list.append(left_hip_acceleration)\n",
    "        right_hip_acceleration_list.append(right_hip_acceleration)\n",
    "        left_wrist_acceleration_list.append(left_wrist_acceleration)\n",
    "        right_wrist_acceleration_list.append(right_wrist_acceleration)\n",
    "    \n",
    "    # 计算DataFrame\n",
    "    LMA_measurement = { \n",
    "        \n",
    "                    'norm_d': pd.Series(data = norm_list),\n",
    "    \n",
    "                    #Body\n",
    "                   'l_ankle_l_hip_d': pd.Series(data = left_ankle_left_hip_distance_list),\n",
    "                   'r_ankle_r_hip_d': pd.Series(data = right_ankle_right_hip_distance_list),\n",
    "                   'l_wrist_nose_d': pd.Series(data = left_wrist_nose_distance_list),\n",
    "                   'r_wrist_nose_d': pd.Series(data = right_wrist_nose_distance_list),\n",
    "                   'l_wrist_l_hip_d': pd.Series(data = left_wrist_left_hip_distance_list),\n",
    "                   'r_wrist_r_hip_d': pd.Series(data = right_wrist_right_hip_distance_list),\n",
    "                    #Effort velocity\n",
    "                   'l_ankle_v': pd.Series(data = left_ankle_velocity_list),\n",
    "                   'r_ankle_v': pd.Series(data = right_ankle_velocity_list),\n",
    "                   'l_hip_v': pd.Series(data = left_hip_velocity_list),\n",
    "                   'r_hip_v': pd.Series(data = right_hip_velocity_list),\n",
    "                   'l_wrist_v': pd.Series(data = left_wrist_velocity_list),\n",
    "                   'r_wrist_v': pd.Series(data = right_wrist_velocity_list),\n",
    "                    #Effort acceleration\n",
    "                   'l_ankle_a': pd.Series(data = left_ankle_acceleration_list),\n",
    "                   'r_ankle_a': pd.Series(data = right_ankle_acceleration_list),\n",
    "                   'l_hip_a': pd.Series(data = left_hip_acceleration_list),\n",
    "                   'r_hip_a': pd.Series(data = right_hip_acceleration_list),\n",
    "                   'l_wrist_a': pd.Series(data = left_wrist_acceleration_list),\n",
    "                   'r_wrist_a': pd.Series(data = right_wrist_acceleration_list),   \n",
    "                  }\n",
    "    # 处理DataFrame\n",
    "    LMA_measurement_df = pd.DataFrame(LMA_measurement)\n",
    "\n",
    "    # 根据std位置不同，选择不同norm数据\n",
    "    if std_num == 0:\n",
    "        norm = LMA_measurement_df['norm_d']/40\n",
    "    elif std_num == 1:\n",
    "        norm = LMA_measurement_df['norm_d']/30\n",
    "    elif std_num == 2:\n",
    "        norm = LMA_measurement_df['norm_d']/25\n",
    "    elif std_num == 3:\n",
    "        norm = LMA_measurement_df['norm_d']/60\n",
    "    Seven_LMA_measurement_norm_df = LMA_measurement_df.iloc[:, :7].div(norm, axis=0) \n",
    "    LMA_measurement_norm_df = pd.concat([Seven_LMA_measurement_norm_df, LMA_measurement_df.iloc[:, 7:]], axis=1)\n",
    "    LMA_measurement_norm_df = LMA_measurement_norm_df.dropna()\n",
    "    LMA_measurement_norm_df = LMA_measurement_norm_df.drop(columns = ['norm_d']) \n",
    "    return LMA_measurement_norm_df\n",
    "\n",
    "# 归一化处理函数\n",
    "def calc_norm(action_df):\n",
    "    normalized = np.arctan(MinMaxScaler().fit_transform(action_df.T).T)\n",
    "    norm_action_df = pd.DataFrame(normalized, columns=action_df.columns)\n",
    "    return norm_action_df"
   ]
  },
  {
   "cell_type": "code",
   "execution_count": 7,
   "id": "43af57e5-9dcc-4177-bbcc-d7c061df1d22",
   "metadata": {},
   "outputs": [
    {
     "name": "stdout",
     "output_type": "stream",
     "text": [
      "Afraid\n",
      "folder_1\n",
      "folder_2\n",
      "folder_3\n",
      "folder_4\n",
      "folder_5\n",
      "folder_6\n",
      "folder_7\n",
      "folder_8\n",
      "folder_9\n",
      "Excited\n",
      "folder_1\n",
      "folder_2\n",
      "folder_3\n",
      "folder_4\n",
      "folder_5\n",
      "folder_6\n",
      "folder_7\n",
      "folder_8\n",
      "folder_9\n",
      "Annoyed\n",
      "folder_1\n",
      "folder_2\n",
      "folder_3\n",
      "folder_4\n",
      "folder_5\n",
      "folder_6\n",
      "folder_7\n",
      "folder_8\n",
      "folder_9\n",
      "Bored\n",
      "folder_1\n",
      "folder_2\n",
      "folder_3\n",
      "folder_4\n",
      "folder_5\n",
      "folder_6\n",
      "folder_7\n",
      "folder_8\n",
      "folder_9\n",
      "Angry\n",
      "folder_1\n",
      "folder_2\n",
      "folder_3\n",
      "folder_4\n",
      "folder_5\n",
      "folder_6\n",
      "folder_7\n",
      "folder_8\n",
      "folder_9\n",
      "Happy\n",
      "folder_1\n",
      "folder_2\n",
      "folder_3\n",
      "folder_4\n",
      "folder_5\n",
      "folder_6\n",
      "folder_7\n",
      "folder_8\n"
     ]
    }
   ],
   "source": [
    "cut_frame = 10\n",
    "\n",
    "static_xy_list = []\n",
    "lma_list = []\n",
    "array_history = []\n",
    "label_list = []\n",
    "\n",
    "train_path =  os.path.join(r\"D:\\anaconda\\git\\DANCE\\BC_Dance_Clip_Change1\\train\")\n",
    "for sub_folder in actions:\n",
    "    print(sub_folder)\n",
    "    for category_folder in os.listdir(train_path +'\\\\'+ sub_folder):\n",
    "        print(category_folder)\n",
    "        current_frame = 0\n",
    "        for file in os.listdir(train_path + '\\\\'+ sub_folder + '\\\\' + category_folder):\n",
    "            file_path = train_path + '\\\\'+ sub_folder + '\\\\' + category_folder + '\\\\' + file\n",
    "#             print(file_path)\n",
    "            res = np.load(file_path, allow_pickle=True)\n",
    "            keypoints_xy_list = []\n",
    "            # 只提取精简之后关键点\n",
    "            for k in indices_to_keep:\n",
    "                keypoint_xy = np.array([res[k].x, res[k].y])\n",
    "                keypoints_xy_list.append(keypoint_xy)\n",
    "            static_xy_list.append(np.array(keypoints_xy_list).flatten())\n",
    "            \n",
    "            if current_frame % 10 == 0:\n",
    "                lma_list.append(res)\n",
    "                \n",
    "            current_frame = current_frame + 1\n",
    "            \n",
    "            if len(lma_list) == 3:\n",
    "                lma_df = calc_all(lma_list)\n",
    "                norm_lma_df = calc_norm(lma_df)\n",
    "                norm_lma_np = norm_lma_df.values\n",
    "                norm_lma_1np = norm_lma_np.reshape(-1)\n",
    "                np_static_xy_list = np.array(static_xy_list)\n",
    "                tem_merge = np.concatenate((np_static_xy_list, np.tile(norm_lma_1np, (np_static_xy_list.shape[0], 1))), axis=1)\n",
    "                array_history.append(tem_merge)\n",
    "                \n",
    "                for i in range(len(np_static_xy_list)):\n",
    "                    label_list.append(label_map[sub_folder])\n",
    "                    \n",
    "                static_xy_list = []\n",
    "                lma_list = []\n",
    "\n",
    "# 最终融合后的二维np数组\n",
    "merge_train = np.vstack(array_history) "
   ]
  },
  {
   "cell_type": "code",
   "execution_count": 8,
   "id": "68a2cb60-c283-4bc2-9b44-4c77383c3d42",
   "metadata": {},
   "outputs": [
    {
     "data": {
      "text/plain": [
       "(26553, 44)"
      ]
     },
     "execution_count": 8,
     "metadata": {},
     "output_type": "execute_result"
    }
   ],
   "source": [
    "merge_train.shape"
   ]
  },
  {
   "cell_type": "code",
   "execution_count": 9,
   "id": "4b723599-534d-4c16-986e-e5961fcb1a01",
   "metadata": {},
   "outputs": [
    {
     "data": {
      "text/plain": [
       "26553"
      ]
     },
     "execution_count": 9,
     "metadata": {},
     "output_type": "execute_result"
    }
   ],
   "source": [
    "len(label_list)"
   ]
  },
  {
   "cell_type": "code",
   "execution_count": 10,
   "id": "0cfc842d-ea8f-4150-8f5b-169d05bb39f0",
   "metadata": {},
   "outputs": [
    {
     "name": "stdout",
     "output_type": "stream",
     "text": [
      "4509 4509 4509 4509 4509 4008\n"
     ]
    }
   ],
   "source": [
    "counter = Counter(label_list)\n",
    "Afraid_num =  counter[0]\n",
    "Happy_num = counter[1]\n",
    "Pleased_num = counter[2]\n",
    "Bored_num = counter[3]\n",
    "Relaxed_num = counter[4]\n",
    "Annoyed_num = counter[5]\n",
    "print(Afraid_num, Happy_num, Pleased_num, Bored_num, Relaxed_num, Annoyed_num)"
   ]
  },
  {
   "cell_type": "code",
   "execution_count": 11,
   "id": "d3ebf602-59b4-4398-a670-222324234635",
   "metadata": {},
   "outputs": [],
   "source": [
    "# 整理训练集\n",
    "X_train = merge_train\n",
    "y_train = to_categorical(label_list).astype(int)"
   ]
  },
  {
   "cell_type": "code",
   "execution_count": 12,
   "id": "cb4a8430-66df-4082-90f6-6367e5a86783",
   "metadata": {},
   "outputs": [
    {
     "name": "stdout",
     "output_type": "stream",
     "text": [
      "Afraid\n",
      "folder_9\n",
      "Excited\n",
      "folder_9\n",
      "Annoyed\n",
      "folder_9\n",
      "Bored\n",
      "folder_9\n",
      "Angry\n",
      "folder_9\n",
      "Happy\n",
      "folder_9\n"
     ]
    }
   ],
   "source": [
    "cut_frame = 10\n",
    "\n",
    "static_xy_list = []\n",
    "lma_list = []\n",
    "array_history = []\n",
    "test_label_list = []\n",
    "\n",
    "test_path =  os.path.join(r\"D:\\anaconda\\git\\DANCE\\BC_Dance_Clip_Change1\\test\")\n",
    "for sub_folder in actions:\n",
    "    print(sub_folder)\n",
    "    for category_folder in os.listdir(test_path +'\\\\'+ sub_folder):\n",
    "        print(category_folder)\n",
    "        current_frame = 0\n",
    "        for file in os.listdir(test_path + '\\\\'+ sub_folder + '\\\\' + category_folder):\n",
    "            file_path = test_path + '\\\\'+ sub_folder + '\\\\' + category_folder + '\\\\' + file\n",
    "#             print(file_path)\n",
    "            res = np.load(file_path, allow_pickle=True)\n",
    "            keypoints_xy_list = []\n",
    "            for k in indices_to_keep:\n",
    "                keypoint_xy = np.array([res[k].x, res[k].y])\n",
    "                keypoints_xy_list.append(keypoint_xy)\n",
    "            static_xy_list.append(np.array(keypoints_xy_list).flatten())\n",
    "\n",
    "            # 标签分配\n",
    "            for i in range(len(np_static_xy_list)):\n",
    "                test_label_list.append(label_map[sub_folder])\n",
    "            \n",
    "            if current_frame % 10 == 0:\n",
    "                lma_list.append(res)\n",
    "                \n",
    "            current_frame = current_frame + 1\n",
    "            \n",
    "            if len(lma_list) == 3:\n",
    "                lma_df = calc_all(lma_list)\n",
    "                norm_lma_df = calc_norm(lma_df)\n",
    "                norm_lma_np = norm_lma_df.values\n",
    "                norm_lma_1np = norm_lma_np.reshape(-1)\n",
    "                np_static_xy_list = np.array(static_xy_list)\n",
    "                tem_merge = np.concatenate((np_static_xy_list, np.tile(norm_lma_1np, (np_static_xy_list.shape[0], 1))), axis=1)\n",
    "                array_history.append(tem_merge)\n",
    "                \n",
    "                for i in range(len(np_static_xy_list)):\n",
    "                    test_label_list.append(label_map[sub_folder])\n",
    "                    \n",
    "                static_xy_list = []\n",
    "                lma_list = []\n",
    "\n",
    "# 最终融合后的二维np数组\n",
    "test_merge_train = np.vstack(array_history)   "
   ]
  },
  {
   "cell_type": "code",
   "execution_count": 13,
   "id": "c9b021af-7a87-416a-84e3-d50dfde7bba9",
   "metadata": {},
   "outputs": [
    {
     "data": {
      "text/plain": [
       "(3006, 44)"
      ]
     },
     "execution_count": 13,
     "metadata": {},
     "output_type": "execute_result"
    }
   ],
   "source": [
    "test_merge_train.shape"
   ]
  },
  {
   "cell_type": "code",
   "execution_count": 14,
   "id": "490221cc-cd8c-41f4-a90a-d282fe415a14",
   "metadata": {},
   "outputs": [
    {
     "data": {
      "text/plain": [
       "91566"
      ]
     },
     "execution_count": 14,
     "metadata": {},
     "output_type": "execute_result"
    }
   ],
   "source": [
    "len(test_label_list)"
   ]
  },
  {
   "cell_type": "code",
   "execution_count": 15,
   "id": "022b7e25-a112-4607-a315-dd7913620a47",
   "metadata": {},
   "outputs": [
    {
     "name": "stdout",
     "output_type": "stream",
     "text": [
      "15261 15261 15261 15261 15261 15261\n"
     ]
    }
   ],
   "source": [
    "counter = Counter(test_label_list)\n",
    "Afraid_num =  counter[0]\n",
    "Happy_num = counter[1]\n",
    "Pleased_num = counter[2]\n",
    "Bored_num = counter[3]\n",
    "Relaxed_num = counter[4]\n",
    "Annoyed_num = counter[5]\n",
    "print(Afraid_num, Happy_num, Pleased_num, Bored_num, Relaxed_num, Annoyed_num)"
   ]
  },
  {
   "cell_type": "code",
   "execution_count": 16,
   "id": "dec373f5-b8c2-4cd1-8799-c03422e919d1",
   "metadata": {},
   "outputs": [],
   "source": [
    "# 整理测试集\n",
    "X_test = test_merge_train\n",
    "y_test = to_categorical(test_label_list).astype(int)"
   ]
  },
  {
   "cell_type": "code",
   "execution_count": 17,
   "id": "eac9d2e0-2c6b-4a25-8f01-5afeed24f39d",
   "metadata": {},
   "outputs": [],
   "source": [
    "train_indices = np.random.permutation(X_train.shape[0])\n",
    "test_indices =  np.random.permutation(X_test.shape[0])"
   ]
  },
  {
   "cell_type": "code",
   "execution_count": 18,
   "id": "77f3faed-e576-49e8-a3d4-140fe29675a9",
   "metadata": {},
   "outputs": [],
   "source": [
    "X_train = X_train[train_indices]\n",
    "y_train = y_train[train_indices]\n",
    "\n",
    "X_test = X_test[test_indices]\n",
    "y_test = y_test[test_indices]"
   ]
  },
  {
   "cell_type": "code",
   "execution_count": 19,
   "id": "0e9e9599-e7aa-4294-9b78-d4262f79412d",
   "metadata": {},
   "outputs": [
    {
     "data": {
      "text/plain": [
       "((26553, 44), (26553, 6), (3006, 44), (3006, 6))"
      ]
     },
     "execution_count": 19,
     "metadata": {},
     "output_type": "execute_result"
    }
   ],
   "source": [
    "X_train.shape, y_train.shape, X_test.shape, y_test.shape"
   ]
  },
  {
   "cell_type": "code",
   "execution_count": 20,
   "id": "54be4299-b9a0-498a-8d70-380fda21bef4",
   "metadata": {},
   "outputs": [],
   "source": [
    "np.random.seed(0)\n",
    "tf.random.set_seed(0)"
   ]
  },
  {
   "cell_type": "code",
   "execution_count": 21,
   "id": "6dc30bba-c757-43bd-bda2-905a0a53d111",
   "metadata": {},
   "outputs": [
    {
     "name": "stdout",
     "output_type": "stream",
     "text": [
      "Epoch 1/50\n"
     ]
    },
    {
     "name": "stderr",
     "output_type": "stream",
     "text": [
      "D:\\anaconda\\envs\\SAM1\\Lib\\site-packages\\keras\\src\\layers\\convolutional\\base_conv.py:107: UserWarning: Do not pass an `input_shape`/`input_dim` argument to a layer. When using Sequential models, prefer using an `Input(shape)` object as the first layer in the model instead.\n",
      "  super().__init__(activity_regularizer=activity_regularizer, **kwargs)\n"
     ]
    },
    {
     "name": "stdout",
     "output_type": "stream",
     "text": [
      "\u001b[1m830/830\u001b[0m \u001b[32m━━━━━━━━━━━━━━━━━━━━\u001b[0m\u001b[37m\u001b[0m \u001b[1m5s\u001b[0m 5ms/step - categorical_accuracy: 0.2339 - loss: 1.7243 - val_categorical_accuracy: 0.1544 - val_loss: 1.8373\n",
      "Epoch 2/50\n",
      "\u001b[1m830/830\u001b[0m \u001b[32m━━━━━━━━━━━━━━━━━━━━\u001b[0m\u001b[37m\u001b[0m \u001b[1m5s\u001b[0m 6ms/step - categorical_accuracy: 0.4093 - loss: 1.4073 - val_categorical_accuracy: 0.1657 - val_loss: 1.9643\n",
      "Epoch 3/50\n",
      "\u001b[1m830/830\u001b[0m \u001b[32m━━━━━━━━━━━━━━━━━━━━\u001b[0m\u001b[37m\u001b[0m \u001b[1m4s\u001b[0m 4ms/step - categorical_accuracy: 0.4799 - loss: 1.2564 - val_categorical_accuracy: 0.1880 - val_loss: 2.0457\n",
      "Epoch 4/50\n",
      "\u001b[1m830/830\u001b[0m \u001b[32m━━━━━━━━━━━━━━━━━━━━\u001b[0m\u001b[37m\u001b[0m \u001b[1m6s\u001b[0m 6ms/step - categorical_accuracy: 0.5359 - loss: 1.1397 - val_categorical_accuracy: 0.2575 - val_loss: 2.0370\n",
      "Epoch 5/50\n",
      "\u001b[1m830/830\u001b[0m \u001b[32m━━━━━━━━━━━━━━━━━━━━\u001b[0m\u001b[37m\u001b[0m \u001b[1m4s\u001b[0m 4ms/step - categorical_accuracy: 0.5754 - loss: 1.0476 - val_categorical_accuracy: 0.2728 - val_loss: 2.0073\n",
      "Epoch 6/50\n",
      "\u001b[1m830/830\u001b[0m \u001b[32m━━━━━━━━━━━━━━━━━━━━\u001b[0m\u001b[37m\u001b[0m \u001b[1m4s\u001b[0m 4ms/step - categorical_accuracy: 0.6137 - loss: 0.9643 - val_categorical_accuracy: 0.2538 - val_loss: 2.3549\n",
      "Epoch 7/50\n",
      "\u001b[1m830/830\u001b[0m \u001b[32m━━━━━━━━━━━━━━━━━━━━\u001b[0m\u001b[37m\u001b[0m \u001b[1m3s\u001b[0m 4ms/step - categorical_accuracy: 0.6442 - loss: 0.8989 - val_categorical_accuracy: 0.2369 - val_loss: 2.7726\n",
      "Epoch 8/50\n",
      "\u001b[1m830/830\u001b[0m \u001b[32m━━━━━━━━━━━━━━━━━━━━\u001b[0m\u001b[37m\u001b[0m \u001b[1m6s\u001b[0m 5ms/step - categorical_accuracy: 0.6658 - loss: 0.8452 - val_categorical_accuracy: 0.2096 - val_loss: 2.9765\n",
      "Epoch 9/50\n",
      "\u001b[1m830/830\u001b[0m \u001b[32m━━━━━━━━━━━━━━━━━━━━\u001b[0m\u001b[37m\u001b[0m \u001b[1m5s\u001b[0m 5ms/step - categorical_accuracy: 0.6818 - loss: 0.7955 - val_categorical_accuracy: 0.2478 - val_loss: 3.3756\n",
      "Epoch 10/50\n",
      "\u001b[1m830/830\u001b[0m \u001b[32m━━━━━━━━━━━━━━━━━━━━\u001b[0m\u001b[37m\u001b[0m \u001b[1m4s\u001b[0m 5ms/step - categorical_accuracy: 0.7105 - loss: 0.7411 - val_categorical_accuracy: 0.2199 - val_loss: 3.8639\n",
      "Epoch 11/50\n",
      "\u001b[1m830/830\u001b[0m \u001b[32m━━━━━━━━━━━━━━━━━━━━\u001b[0m\u001b[37m\u001b[0m \u001b[1m5s\u001b[0m 6ms/step - categorical_accuracy: 0.7282 - loss: 0.6957 - val_categorical_accuracy: 0.2112 - val_loss: 4.3486\n",
      "Epoch 12/50\n",
      "\u001b[1m830/830\u001b[0m \u001b[32m━━━━━━━━━━━━━━━━━━━━\u001b[0m\u001b[37m\u001b[0m \u001b[1m4s\u001b[0m 5ms/step - categorical_accuracy: 0.7437 - loss: 0.6554 - val_categorical_accuracy: 0.2492 - val_loss: 4.0914\n",
      "Epoch 13/50\n",
      "\u001b[1m830/830\u001b[0m \u001b[32m━━━━━━━━━━━━━━━━━━━━\u001b[0m\u001b[37m\u001b[0m \u001b[1m5s\u001b[0m 5ms/step - categorical_accuracy: 0.7597 - loss: 0.6222 - val_categorical_accuracy: 0.2428 - val_loss: 4.6865\n",
      "Epoch 14/50\n",
      "\u001b[1m830/830\u001b[0m \u001b[32m━━━━━━━━━━━━━━━━━━━━\u001b[0m\u001b[37m\u001b[0m \u001b[1m4s\u001b[0m 5ms/step - categorical_accuracy: 0.7650 - loss: 0.6118 - val_categorical_accuracy: 0.2069 - val_loss: 5.4522\n",
      "Epoch 15/50\n",
      "\u001b[1m830/830\u001b[0m \u001b[32m━━━━━━━━━━━━━━━━━━━━\u001b[0m\u001b[37m\u001b[0m \u001b[1m3s\u001b[0m 4ms/step - categorical_accuracy: 0.7796 - loss: 0.5749 - val_categorical_accuracy: 0.2295 - val_loss: 5.3269\n",
      "Epoch 16/50\n",
      "\u001b[1m830/830\u001b[0m \u001b[32m━━━━━━━━━━━━━━━━━━━━\u001b[0m\u001b[37m\u001b[0m \u001b[1m5s\u001b[0m 6ms/step - categorical_accuracy: 0.7884 - loss: 0.5416 - val_categorical_accuracy: 0.2385 - val_loss: 5.6065\n",
      "Epoch 17/50\n",
      "\u001b[1m830/830\u001b[0m \u001b[32m━━━━━━━━━━━━━━━━━━━━\u001b[0m\u001b[37m\u001b[0m \u001b[1m4s\u001b[0m 5ms/step - categorical_accuracy: 0.8028 - loss: 0.5153 - val_categorical_accuracy: 0.2515 - val_loss: 5.7058\n",
      "Epoch 18/50\n",
      "\u001b[1m830/830\u001b[0m \u001b[32m━━━━━━━━━━━━━━━━━━━━\u001b[0m\u001b[37m\u001b[0m \u001b[1m5s\u001b[0m 5ms/step - categorical_accuracy: 0.8031 - loss: 0.5126 - val_categorical_accuracy: 0.2272 - val_loss: 6.7283\n",
      "Epoch 19/50\n",
      "\u001b[1m830/830\u001b[0m \u001b[32m━━━━━━━━━━━━━━━━━━━━\u001b[0m\u001b[37m\u001b[0m \u001b[1m7s\u001b[0m 7ms/step - categorical_accuracy: 0.8193 - loss: 0.4788 - val_categorical_accuracy: 0.2199 - val_loss: 6.2333\n",
      "Epoch 20/50\n",
      "\u001b[1m830/830\u001b[0m \u001b[32m━━━━━━━━━━━━━━━━━━━━\u001b[0m\u001b[37m\u001b[0m \u001b[1m4s\u001b[0m 5ms/step - categorical_accuracy: 0.8162 - loss: 0.4801 - val_categorical_accuracy: 0.2502 - val_loss: 6.4111\n",
      "Epoch 21/50\n",
      "\u001b[1m830/830\u001b[0m \u001b[32m━━━━━━━━━━━━━━━━━━━━\u001b[0m\u001b[37m\u001b[0m \u001b[1m5s\u001b[0m 6ms/step - categorical_accuracy: 0.8308 - loss: 0.4429 - val_categorical_accuracy: 0.2159 - val_loss: 7.5562\n",
      "Epoch 22/50\n",
      "\u001b[1m830/830\u001b[0m \u001b[32m━━━━━━━━━━━━━━━━━━━━\u001b[0m\u001b[37m\u001b[0m \u001b[1m3s\u001b[0m 4ms/step - categorical_accuracy: 0.8289 - loss: 0.4420 - val_categorical_accuracy: 0.2342 - val_loss: 7.3438\n",
      "Epoch 23/50\n",
      "\u001b[1m830/830\u001b[0m \u001b[32m━━━━━━━━━━━━━━━━━━━━\u001b[0m\u001b[37m\u001b[0m \u001b[1m5s\u001b[0m 4ms/step - categorical_accuracy: 0.8317 - loss: 0.4383 - val_categorical_accuracy: 0.1993 - val_loss: 7.6392\n",
      "Epoch 24/50\n",
      "\u001b[1m830/830\u001b[0m \u001b[32m━━━━━━━━━━━━━━━━━━━━\u001b[0m\u001b[37m\u001b[0m \u001b[1m3s\u001b[0m 4ms/step - categorical_accuracy: 0.8418 - loss: 0.4230 - val_categorical_accuracy: 0.2312 - val_loss: 7.9842\n",
      "Epoch 25/50\n",
      "\u001b[1m830/830\u001b[0m \u001b[32m━━━━━━━━━━━━━━━━━━━━\u001b[0m\u001b[37m\u001b[0m \u001b[1m5s\u001b[0m 4ms/step - categorical_accuracy: 0.8463 - loss: 0.3926 - val_categorical_accuracy: 0.2229 - val_loss: 9.1040\n",
      "Epoch 26/50\n",
      "\u001b[1m830/830\u001b[0m \u001b[32m━━━━━━━━━━━━━━━━━━━━\u001b[0m\u001b[37m\u001b[0m \u001b[1m3s\u001b[0m 4ms/step - categorical_accuracy: 0.8406 - loss: 0.4059 - val_categorical_accuracy: 0.2166 - val_loss: 8.7759\n",
      "Epoch 27/50\n",
      "\u001b[1m830/830\u001b[0m \u001b[32m━━━━━━━━━━━━━━━━━━━━\u001b[0m\u001b[37m\u001b[0m \u001b[1m3s\u001b[0m 4ms/step - categorical_accuracy: 0.8487 - loss: 0.3997 - val_categorical_accuracy: 0.2122 - val_loss: 9.8751\n",
      "Epoch 28/50\n",
      "\u001b[1m830/830\u001b[0m \u001b[32m━━━━━━━━━━━━━━━━━━━━\u001b[0m\u001b[37m\u001b[0m \u001b[1m3s\u001b[0m 3ms/step - categorical_accuracy: 0.8562 - loss: 0.3819 - val_categorical_accuracy: 0.1956 - val_loss: 10.0093\n",
      "Epoch 29/50\n",
      "\u001b[1m830/830\u001b[0m \u001b[32m━━━━━━━━━━━━━━━━━━━━\u001b[0m\u001b[37m\u001b[0m \u001b[1m2s\u001b[0m 3ms/step - categorical_accuracy: 0.8569 - loss: 0.3756 - val_categorical_accuracy: 0.2126 - val_loss: 10.4277\n",
      "Epoch 30/50\n",
      "\u001b[1m830/830\u001b[0m \u001b[32m━━━━━━━━━━━━━━━━━━━━\u001b[0m\u001b[37m\u001b[0m \u001b[1m3s\u001b[0m 4ms/step - categorical_accuracy: 0.8605 - loss: 0.3599 - val_categorical_accuracy: 0.2089 - val_loss: 10.0693\n",
      "Epoch 31/50\n",
      "\u001b[1m830/830\u001b[0m \u001b[32m━━━━━━━━━━━━━━━━━━━━\u001b[0m\u001b[37m\u001b[0m \u001b[1m3s\u001b[0m 4ms/step - categorical_accuracy: 0.8640 - loss: 0.3630 - val_categorical_accuracy: 0.2049 - val_loss: 10.9109\n",
      "Epoch 32/50\n",
      "\u001b[1m830/830\u001b[0m \u001b[32m━━━━━━━━━━━━━━━━━━━━\u001b[0m\u001b[37m\u001b[0m \u001b[1m3s\u001b[0m 4ms/step - categorical_accuracy: 0.8668 - loss: 0.3540 - val_categorical_accuracy: 0.2036 - val_loss: 11.6916\n",
      "Epoch 33/50\n",
      "\u001b[1m830/830\u001b[0m \u001b[32m━━━━━━━━━━━━━━━━━━━━\u001b[0m\u001b[37m\u001b[0m \u001b[1m4s\u001b[0m 4ms/step - categorical_accuracy: 0.8669 - loss: 0.3588 - val_categorical_accuracy: 0.2159 - val_loss: 10.8971\n",
      "Epoch 34/50\n",
      "\u001b[1m830/830\u001b[0m \u001b[32m━━━━━━━━━━━━━━━━━━━━\u001b[0m\u001b[37m\u001b[0m \u001b[1m4s\u001b[0m 4ms/step - categorical_accuracy: 0.8704 - loss: 0.3406 - val_categorical_accuracy: 0.1896 - val_loss: 12.0358\n",
      "Epoch 35/50\n",
      "\u001b[1m830/830\u001b[0m \u001b[32m━━━━━━━━━━━━━━━━━━━━\u001b[0m\u001b[37m\u001b[0m \u001b[1m4s\u001b[0m 5ms/step - categorical_accuracy: 0.8670 - loss: 0.3439 - val_categorical_accuracy: 0.2112 - val_loss: 11.7782\n",
      "Epoch 36/50\n",
      "\u001b[1m830/830\u001b[0m \u001b[32m━━━━━━━━━━━━━━━━━━━━\u001b[0m\u001b[37m\u001b[0m \u001b[1m3s\u001b[0m 4ms/step - categorical_accuracy: 0.8831 - loss: 0.3053 - val_categorical_accuracy: 0.2016 - val_loss: 13.0157\n",
      "Epoch 37/50\n",
      "\u001b[1m830/830\u001b[0m \u001b[32m━━━━━━━━━━━━━━━━━━━━\u001b[0m\u001b[37m\u001b[0m \u001b[1m3s\u001b[0m 4ms/step - categorical_accuracy: 0.8722 - loss: 0.3418 - val_categorical_accuracy: 0.2046 - val_loss: 11.8309\n",
      "Epoch 38/50\n",
      "\u001b[1m830/830\u001b[0m \u001b[32m━━━━━━━━━━━━━━━━━━━━\u001b[0m\u001b[37m\u001b[0m \u001b[1m3s\u001b[0m 4ms/step - categorical_accuracy: 0.8734 - loss: 0.3384 - val_categorical_accuracy: 0.1913 - val_loss: 13.6702\n",
      "Epoch 39/50\n",
      "\u001b[1m830/830\u001b[0m \u001b[32m━━━━━━━━━━━━━━━━━━━━\u001b[0m\u001b[37m\u001b[0m \u001b[1m3s\u001b[0m 3ms/step - categorical_accuracy: 0.8750 - loss: 0.3324 - val_categorical_accuracy: 0.2146 - val_loss: 12.9687\n",
      "Epoch 40/50\n",
      "\u001b[1m830/830\u001b[0m \u001b[32m━━━━━━━━━━━━━━━━━━━━\u001b[0m\u001b[37m\u001b[0m \u001b[1m3s\u001b[0m 3ms/step - categorical_accuracy: 0.8836 - loss: 0.3082 - val_categorical_accuracy: 0.1886 - val_loss: 15.2260\n",
      "Epoch 41/50\n",
      "\u001b[1m830/830\u001b[0m \u001b[32m━━━━━━━━━━━━━━━━━━━━\u001b[0m\u001b[37m\u001b[0m \u001b[1m3s\u001b[0m 3ms/step - categorical_accuracy: 0.8783 - loss: 0.3196 - val_categorical_accuracy: 0.2069 - val_loss: 12.3844\n",
      "Epoch 42/50\n",
      "\u001b[1m830/830\u001b[0m \u001b[32m━━━━━━━━━━━━━━━━━━━━\u001b[0m\u001b[37m\u001b[0m \u001b[1m3s\u001b[0m 3ms/step - categorical_accuracy: 0.8869 - loss: 0.3016 - val_categorical_accuracy: 0.2019 - val_loss: 13.6894\n",
      "Epoch 43/50\n",
      "\u001b[1m830/830\u001b[0m \u001b[32m━━━━━━━━━━━━━━━━━━━━\u001b[0m\u001b[37m\u001b[0m \u001b[1m3s\u001b[0m 4ms/step - categorical_accuracy: 0.8873 - loss: 0.2989 - val_categorical_accuracy: 0.1989 - val_loss: 14.3342\n",
      "Epoch 44/50\n",
      "\u001b[1m830/830\u001b[0m \u001b[32m━━━━━━━━━━━━━━━━━━━━\u001b[0m\u001b[37m\u001b[0m \u001b[1m3s\u001b[0m 4ms/step - categorical_accuracy: 0.8861 - loss: 0.2964 - val_categorical_accuracy: 0.1999 - val_loss: 15.2363\n",
      "Epoch 45/50\n",
      "\u001b[1m830/830\u001b[0m \u001b[32m━━━━━━━━━━━━━━━━━━━━\u001b[0m\u001b[37m\u001b[0m \u001b[1m3s\u001b[0m 3ms/step - categorical_accuracy: 0.8876 - loss: 0.3007 - val_categorical_accuracy: 0.2016 - val_loss: 13.7397\n",
      "Epoch 46/50\n",
      "\u001b[1m830/830\u001b[0m \u001b[32m━━━━━━━━━━━━━━━━━━━━\u001b[0m\u001b[37m\u001b[0m \u001b[1m3s\u001b[0m 3ms/step - categorical_accuracy: 0.8912 - loss: 0.2940 - val_categorical_accuracy: 0.1986 - val_loss: 14.9971\n",
      "Epoch 47/50\n",
      "\u001b[1m830/830\u001b[0m \u001b[32m━━━━━━━━━━━━━━━━━━━━\u001b[0m\u001b[37m\u001b[0m \u001b[1m3s\u001b[0m 3ms/step - categorical_accuracy: 0.8904 - loss: 0.2878 - val_categorical_accuracy: 0.2033 - val_loss: 15.4346\n",
      "Epoch 48/50\n",
      "\u001b[1m830/830\u001b[0m \u001b[32m━━━━━━━━━━━━━━━━━━━━\u001b[0m\u001b[37m\u001b[0m \u001b[1m3s\u001b[0m 3ms/step - categorical_accuracy: 0.8953 - loss: 0.2827 - val_categorical_accuracy: 0.1893 - val_loss: 14.9490\n",
      "Epoch 49/50\n",
      "\u001b[1m830/830\u001b[0m \u001b[32m━━━━━━━━━━━━━━━━━━━━\u001b[0m\u001b[37m\u001b[0m \u001b[1m3s\u001b[0m 3ms/step - categorical_accuracy: 0.8932 - loss: 0.2806 - val_categorical_accuracy: 0.1946 - val_loss: 16.1996\n",
      "Epoch 50/50\n",
      "\u001b[1m830/830\u001b[0m \u001b[32m━━━━━━━━━━━━━━━━━━━━\u001b[0m\u001b[37m\u001b[0m \u001b[1m2s\u001b[0m 3ms/step - categorical_accuracy: 0.8926 - loss: 0.2867 - val_categorical_accuracy: 0.1876 - val_loss: 15.3608\n"
     ]
    },
    {
     "data": {
      "image/png": "[encoded data removed]",
      "text/plain": [
       "<Figure size 640x480 with 1 Axes>"
      ]
     },
     "metadata": {},
     "output_type": "display_data"
    },
    {
     "data": {
      "image/png": "[encoded data removed]",
      "text/plain": [
       "<Figure size 640x480 with 1 Axes>"
      ]
     },
     "metadata": {},
     "output_type": "display_data"
    },
    {
     "data": {
      "text/html": [
       "<pre style=\"white-space:pre;overflow-x:auto;line-height:normal;font-family:Menlo,'DejaVu Sans Mono',consolas,'Courier New',monospace\"><span style=\"font-weight: bold\">Model: \"sequential\"</span>\n",
       "</pre>\n"
      ],
      "text/plain": [
       "\u001b[1mModel: \"sequential\"\u001b[0m\n"
      ]
     },
     "metadata": {},
     "output_type": "display_data"
    },
    {
     "data": {
      "text/html": [
       "<pre style=\"white-space:pre;overflow-x:auto;line-height:normal;font-family:Menlo,'DejaVu Sans Mono',consolas,'Courier New',monospace\">┏━━━━━━━━━━━━━━━━━━━━━━━━━━━━━━━━━━━━━━┳━━━━━━━━━━━━━━━━━━━━━━━━━━━━━┳━━━━━━━━━━━━━━━━━┓\n",
       "┃<span style=\"font-weight: bold\"> Layer (type)                         </span>┃<span style=\"font-weight: bold\"> Output Shape                </span>┃<span style=\"font-weight: bold\">         Param # </span>┃\n",
       "┡━━━━━━━━━━━━━━━━━━━━━━━━━━━━━━━━━━━━━━╇━━━━━━━━━━━━━━━━━━━━━━━━━━━━━╇━━━━━━━━━━━━━━━━━┩\n",
       "│ conv1d (<span style=\"color: #0087ff; text-decoration-color: #0087ff\">Conv1D</span>)                      │ (<span style=\"color: #00d7ff; text-decoration-color: #00d7ff\">None</span>, <span style=\"color: #00af00; text-decoration-color: #00af00\">42</span>, <span style=\"color: #00af00; text-decoration-color: #00af00\">32</span>)              │             <span style=\"color: #00af00; text-decoration-color: #00af00\">128</span> │\n",
       "├──────────────────────────────────────┼─────────────────────────────┼─────────────────┤\n",
       "│ max_pooling1d (<span style=\"color: #0087ff; text-decoration-color: #0087ff\">MaxPooling1D</span>)         │ (<span style=\"color: #00d7ff; text-decoration-color: #00d7ff\">None</span>, <span style=\"color: #00af00; text-decoration-color: #00af00\">21</span>, <span style=\"color: #00af00; text-decoration-color: #00af00\">32</span>)              │               <span style=\"color: #00af00; text-decoration-color: #00af00\">0</span> │\n",
       "├──────────────────────────────────────┼─────────────────────────────┼─────────────────┤\n",
       "│ conv1d_1 (<span style=\"color: #0087ff; text-decoration-color: #0087ff\">Conv1D</span>)                    │ (<span style=\"color: #00d7ff; text-decoration-color: #00d7ff\">None</span>, <span style=\"color: #00af00; text-decoration-color: #00af00\">19</span>, <span style=\"color: #00af00; text-decoration-color: #00af00\">64</span>)              │           <span style=\"color: #00af00; text-decoration-color: #00af00\">6,208</span> │\n",
       "├──────────────────────────────────────┼─────────────────────────────┼─────────────────┤\n",
       "│ max_pooling1d_1 (<span style=\"color: #0087ff; text-decoration-color: #0087ff\">MaxPooling1D</span>)       │ (<span style=\"color: #00d7ff; text-decoration-color: #00d7ff\">None</span>, <span style=\"color: #00af00; text-decoration-color: #00af00\">9</span>, <span style=\"color: #00af00; text-decoration-color: #00af00\">64</span>)               │               <span style=\"color: #00af00; text-decoration-color: #00af00\">0</span> │\n",
       "├──────────────────────────────────────┼─────────────────────────────┼─────────────────┤\n",
       "│ flatten (<span style=\"color: #0087ff; text-decoration-color: #0087ff\">Flatten</span>)                    │ (<span style=\"color: #00d7ff; text-decoration-color: #00d7ff\">None</span>, <span style=\"color: #00af00; text-decoration-color: #00af00\">576</span>)                 │               <span style=\"color: #00af00; text-decoration-color: #00af00\">0</span> │\n",
       "├──────────────────────────────────────┼─────────────────────────────┼─────────────────┤\n",
       "│ dense (<span style=\"color: #0087ff; text-decoration-color: #0087ff\">Dense</span>)                        │ (<span style=\"color: #00d7ff; text-decoration-color: #00d7ff\">None</span>, <span style=\"color: #00af00; text-decoration-color: #00af00\">128</span>)                 │          <span style=\"color: #00af00; text-decoration-color: #00af00\">73,856</span> │\n",
       "├──────────────────────────────────────┼─────────────────────────────┼─────────────────┤\n",
       "│ dropout (<span style=\"color: #0087ff; text-decoration-color: #0087ff\">Dropout</span>)                    │ (<span style=\"color: #00d7ff; text-decoration-color: #00d7ff\">None</span>, <span style=\"color: #00af00; text-decoration-color: #00af00\">128</span>)                 │               <span style=\"color: #00af00; text-decoration-color: #00af00\">0</span> │\n",
       "├──────────────────────────────────────┼─────────────────────────────┼─────────────────┤\n",
       "│ dense_1 (<span style=\"color: #0087ff; text-decoration-color: #0087ff\">Dense</span>)                      │ (<span style=\"color: #00d7ff; text-decoration-color: #00d7ff\">None</span>, <span style=\"color: #00af00; text-decoration-color: #00af00\">64</span>)                  │           <span style=\"color: #00af00; text-decoration-color: #00af00\">8,256</span> │\n",
       "├──────────────────────────────────────┼─────────────────────────────┼─────────────────┤\n",
       "│ dropout_1 (<span style=\"color: #0087ff; text-decoration-color: #0087ff\">Dropout</span>)                  │ (<span style=\"color: #00d7ff; text-decoration-color: #00d7ff\">None</span>, <span style=\"color: #00af00; text-decoration-color: #00af00\">64</span>)                  │               <span style=\"color: #00af00; text-decoration-color: #00af00\">0</span> │\n",
       "├──────────────────────────────────────┼─────────────────────────────┼─────────────────┤\n",
       "│ dense_2 (<span style=\"color: #0087ff; text-decoration-color: #0087ff\">Dense</span>)                      │ (<span style=\"color: #00d7ff; text-decoration-color: #00d7ff\">None</span>, <span style=\"color: #00af00; text-decoration-color: #00af00\">6</span>)                   │             <span style=\"color: #00af00; text-decoration-color: #00af00\">390</span> │\n",
       "└──────────────────────────────────────┴─────────────────────────────┴─────────────────┘\n",
       "</pre>\n"
      ],
      "text/plain": [
       "┏━━━━━━━━━━━━━━━━━━━━━━━━━━━━━━━━━━━━━━┳━━━━━━━━━━━━━━━━━━━━━━━━━━━━━┳━━━━━━━━━━━━━━━━━┓\n",
       "┃\u001b[1m \u001b[0m\u001b[1mLayer (type)                        \u001b[0m\u001b[1m \u001b[0m┃\u001b[1m \u001b[0m\u001b[1mOutput Shape               \u001b[0m\u001b[1m \u001b[0m┃\u001b[1m \u001b[0m\u001b[1m        Param #\u001b[0m\u001b[1m \u001b[0m┃\n",
       "┡━━━━━━━━━━━━━━━━━━━━━━━━━━━━━━━━━━━━━━╇━━━━━━━━━━━━━━━━━━━━━━━━━━━━━╇━━━━━━━━━━━━━━━━━┩\n",
       "│ conv1d (\u001b[38;5;33mConv1D\u001b[0m)                      │ (\u001b[38;5;45mNone\u001b[0m, \u001b[38;5;34m42\u001b[0m, \u001b[38;5;34m32\u001b[0m)              │             \u001b[38;5;34m128\u001b[0m │\n",
       "├──────────────────────────────────────┼─────────────────────────────┼─────────────────┤\n",
       "│ max_pooling1d (\u001b[38;5;33mMaxPooling1D\u001b[0m)         │ (\u001b[38;5;45mNone\u001b[0m, \u001b[38;5;34m21\u001b[0m, \u001b[38;5;34m32\u001b[0m)              │               \u001b[38;5;34m0\u001b[0m │\n",
       "├──────────────────────────────────────┼─────────────────────────────┼─────────────────┤\n",
       "│ conv1d_1 (\u001b[38;5;33mConv1D\u001b[0m)                    │ (\u001b[38;5;45mNone\u001b[0m, \u001b[38;5;34m19\u001b[0m, \u001b[38;5;34m64\u001b[0m)              │           \u001b[38;5;34m6,208\u001b[0m │\n",
       "├──────────────────────────────────────┼─────────────────────────────┼─────────────────┤\n",
       "│ max_pooling1d_1 (\u001b[38;5;33mMaxPooling1D\u001b[0m)       │ (\u001b[38;5;45mNone\u001b[0m, \u001b[38;5;34m9\u001b[0m, \u001b[38;5;34m64\u001b[0m)               │               \u001b[38;5;34m0\u001b[0m │\n",
       "├──────────────────────────────────────┼─────────────────────────────┼─────────────────┤\n",
       "│ flatten (\u001b[38;5;33mFlatten\u001b[0m)                    │ (\u001b[38;5;45mNone\u001b[0m, \u001b[38;5;34m576\u001b[0m)                 │               \u001b[38;5;34m0\u001b[0m │\n",
       "├──────────────────────────────────────┼─────────────────────────────┼─────────────────┤\n",
       "│ dense (\u001b[38;5;33mDense\u001b[0m)                        │ (\u001b[38;5;45mNone\u001b[0m, \u001b[38;5;34m128\u001b[0m)                 │          \u001b[38;5;34m73,856\u001b[0m │\n",
       "├──────────────────────────────────────┼─────────────────────────────┼─────────────────┤\n",
       "│ dropout (\u001b[38;5;33mDropout\u001b[0m)                    │ (\u001b[38;5;45mNone\u001b[0m, \u001b[38;5;34m128\u001b[0m)                 │               \u001b[38;5;34m0\u001b[0m │\n",
       "├──────────────────────────────────────┼─────────────────────────────┼─────────────────┤\n",
       "│ dense_1 (\u001b[38;5;33mDense\u001b[0m)                      │ (\u001b[38;5;45mNone\u001b[0m, \u001b[38;5;34m64\u001b[0m)                  │           \u001b[38;5;34m8,256\u001b[0m │\n",
       "├──────────────────────────────────────┼─────────────────────────────┼─────────────────┤\n",
       "│ dropout_1 (\u001b[38;5;33mDropout\u001b[0m)                  │ (\u001b[38;5;45mNone\u001b[0m, \u001b[38;5;34m64\u001b[0m)                  │               \u001b[38;5;34m0\u001b[0m │\n",
       "├──────────────────────────────────────┼─────────────────────────────┼─────────────────┤\n",
       "│ dense_2 (\u001b[38;5;33mDense\u001b[0m)                      │ (\u001b[38;5;45mNone\u001b[0m, \u001b[38;5;34m6\u001b[0m)                   │             \u001b[38;5;34m390\u001b[0m │\n",
       "└──────────────────────────────────────┴─────────────────────────────┴─────────────────┘\n"
      ]
     },
     "metadata": {},
     "output_type": "display_data"
    },
    {
     "data": {
      "text/html": [
       "<pre style=\"white-space:pre;overflow-x:auto;line-height:normal;font-family:Menlo,'DejaVu Sans Mono',consolas,'Courier New',monospace\"><span style=\"font-weight: bold\"> Total params: </span><span style=\"color: #00af00; text-decoration-color: #00af00\">266,516</span> (1.02 MB)\n",
       "</pre>\n"
      ],
      "text/plain": [
       "\u001b[1m Total params: \u001b[0m\u001b[38;5;34m266,516\u001b[0m (1.02 MB)\n"
      ]
     },
     "metadata": {},
     "output_type": "display_data"
    },
    {
     "data": {
      "text/html": [
       "<pre style=\"white-space:pre;overflow-x:auto;line-height:normal;font-family:Menlo,'DejaVu Sans Mono',consolas,'Courier New',monospace\"><span style=\"font-weight: bold\"> Trainable params: </span><span style=\"color: #00af00; text-decoration-color: #00af00\">88,838</span> (347.02 KB)\n",
       "</pre>\n"
      ],
      "text/plain": [
       "\u001b[1m Trainable params: \u001b[0m\u001b[38;5;34m88,838\u001b[0m (347.02 KB)\n"
      ]
     },
     "metadata": {},
     "output_type": "display_data"
    },
    {
     "data": {
      "text/html": [
       "<pre style=\"white-space:pre;overflow-x:auto;line-height:normal;font-family:Menlo,'DejaVu Sans Mono',consolas,'Courier New',monospace\"><span style=\"font-weight: bold\"> Non-trainable params: </span><span style=\"color: #00af00; text-decoration-color: #00af00\">0</span> (0.00 B)\n",
       "</pre>\n"
      ],
      "text/plain": [
       "\u001b[1m Non-trainable params: \u001b[0m\u001b[38;5;34m0\u001b[0m (0.00 B)\n"
      ]
     },
     "metadata": {},
     "output_type": "display_data"
    },
    {
     "data": {
      "text/html": [
       "<pre style=\"white-space:pre;overflow-x:auto;line-height:normal;font-family:Menlo,'DejaVu Sans Mono',consolas,'Courier New',monospace\"><span style=\"font-weight: bold\"> Optimizer params: </span><span style=\"color: #00af00; text-decoration-color: #00af00\">177,678</span> (694.06 KB)\n",
       "</pre>\n"
      ],
      "text/plain": [
       "\u001b[1m Optimizer params: \u001b[0m\u001b[38;5;34m177,678\u001b[0m (694.06 KB)\n"
      ]
     },
     "metadata": {},
     "output_type": "display_data"
    }
   ],
   "source": [
    "# 数据预处理：对数据进行归一化\n",
    "scaler = MinMaxScaler()\n",
    "X_train = scaler.fit_transform(X_train)\n",
    "X_test = scaler.transform(X_test)\n",
    "\n",
    "# 将数据转换为 CNN 需要的形状 (samples, timesteps, features)\n",
    "X_train = X_train.reshape((X_train.shape[0], X_train.shape[1], 1))\n",
    "X_test = X_test.reshape((X_test.shape[0], X_test.shape[1], 1))\n",
    "\n",
    "# 创建 CNN 模型\n",
    "def create_cnn_model(input_shape):\n",
    "    model = Sequential()\n",
    "\n",
    "    # 第一层卷积层和池化层\n",
    "    model.add(Conv1D(filters=32, kernel_size=3, activation='relu', input_shape=input_shape))\n",
    "    model.add(MaxPooling1D(pool_size=2))\n",
    "\n",
    "    # 第二层卷积层和池化层\n",
    "    model.add(Conv1D(filters=64, kernel_size=3, activation='relu'))\n",
    "    model.add(MaxPooling1D(pool_size=2))\n",
    "\n",
    "    # 展平数据以输入到全连接层\n",
    "    model.add(Flatten())\n",
    "\n",
    "    # 全连接层\n",
    "    model.add(Dense(128, activation='relu'))\n",
    "    model.add(Dropout(0.6))\n",
    "    model.add(Dense(64, activation='relu'))\n",
    "    model.add(Dropout(0.5))\n",
    "    model.add(Dense(6, activation='softmax'))  # 输出6个情感类别\n",
    "\n",
    "    # 编译模型\n",
    "    model.compile(optimizer=Adam(), loss='categorical_crossentropy', metrics=['categorical_accuracy'])\n",
    "\n",
    "    return model\n",
    "\n",
    "# 创建模型\n",
    "cnn_model = create_cnn_model((44, 1))  # 输入形状为44维度特征，1个时间步\n",
    "\n",
    "# 训练模型\n",
    "history = cnn_model.fit(X_train, y_train, epochs=50, validation_data=(X_test, y_test))\n",
    "\n",
    "# 绘制训练过程中的准确率变化\n",
    "plt.plot(history.history['categorical_accuracy'])\n",
    "plt.plot(history.history['val_categorical_accuracy'])\n",
    "plt.title('Model Accuracy')\n",
    "plt.ylabel('Accuracy')\n",
    "plt.xlabel('Epoch')\n",
    "plt.legend(['train', 'test'], loc='upper left')\n",
    "plt.show()\n",
    "\n",
    "# 绘制训练过程中的损失值变化\n",
    "plt.plot(history.history['loss'])\n",
    "plt.plot(history.history['val_loss'])\n",
    "plt.title('Model Loss')\n",
    "plt.ylabel('Loss')\n",
    "plt.xlabel('Epoch')\n",
    "plt.legend(['train', 'test'], loc='upper left')\n",
    "plt.show()\n",
    "\n",
    "# 打印模型结构\n",
    "cnn_model.summary()"
   ]
  },
  {
   "cell_type": "code",
   "execution_count": null,
   "id": "2530b9b5-710e-46da-a40b-27eca190d71d",
   "metadata": {},
   "outputs": [],
   "source": []
  }
 ],
 "metadata": {
  "kernelspec": {
   "display_name": "Python 3 (ipykernel)",
   "language": "python",
   "name": "python3"
  },
  "language_info": {
   "codemirror_mode": {
    "name": "ipython",
    "version": 3
   },
   "file_extension": ".py",
   "mimetype": "text/x-python",
   "name": "python",
   "nbconvert_exporter": "python",
   "pygments_lexer": "ipython3",
   "version": "3.12.5"
  }
 },
 "nbformat": 4,
 "nbformat_minor": 5
}
