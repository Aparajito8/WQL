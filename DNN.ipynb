{
 "cells": [
  {
   "cell_type": "code",
   "execution_count": 1,
   "id": "bb99cf5c",
   "metadata": {},
   "outputs": [],
   "source": [
    "# 导入包\n",
    "import os\n",
    "import cv2 \n",
    "import math\n",
    "import random\n",
    "import numpy as np\n",
    "import pandas as pd\n",
    "import mediapipe as mp\n",
    "import tensorflow as tf\n",
    "from collections import Counter\n",
    "from matplotlib import pyplot as plt\n",
    "from sklearn.metrics import accuracy_score\n",
    "from tensorflow.keras.optimizers import Adam\n",
    "from sklearn.preprocessing import MinMaxScaler\n",
    "from tensorflow.keras.models import Sequential\n",
    "from tensorflow.keras.utils import to_categorical\n",
    "from sklearn.metrics import ConfusionMatrixDisplay\n",
    "\n",
    "from tensorflow.keras.models import Model\n",
    "from tensorflow.keras.layers import Input, Conv1D, BatchNormalization, Activation, MaxPooling1D, Dense, Flatten"
   ]
  },
  {
   "cell_type": "code",
   "execution_count": 2,
   "id": "f98a3b84",
   "metadata": {},
   "outputs": [],
   "source": [
    "actions = np.array(['Afraid', 'Excited', 'Annoyed', 'Bored' ,'Happy','Angry'])"
   ]
  },
  {
   "cell_type": "code",
   "execution_count": 3,
   "id": "a0f25289",
   "metadata": {},
   "outputs": [],
   "source": [
    "indices_to_keep = [0, 11, 12, 13, 14, 15, 16, 23, 24, 25, 26, 27, 28]"
   ]
  },
  {
   "cell_type": "code",
   "execution_count": 4,
   "id": "af73031b",
   "metadata": {},
   "outputs": [],
   "source": [
    "label_map = {label:num for num, label in enumerate(actions)}"
   ]
  },
  {
   "cell_type": "code",
   "execution_count": 5,
   "id": "c3958a99",
   "metadata": {},
   "outputs": [
    {
     "data": {
      "text/plain": [
       "{'Afraid': 0, 'Excited': 1, 'Annoyed': 2, 'Bored': 3, 'Happy': 4, 'Angry': 5}"
      ]
     },
     "execution_count": 5,
     "metadata": {},
     "output_type": "execute_result"
    }
   ],
   "source": [
    "label_map"
   ]
  },
  {
   "cell_type": "code",
   "execution_count": 6,
   "id": "7dbfc54c",
   "metadata": {},
   "outputs": [],
   "source": [
    "# 提取距离速度加速度方法\n",
    "def calc_baseline(action_list):\n",
    "    left_shoulder_right_shoulder_distance_list = []\n",
    "    left_shoulder_left_elbow_distance_list = []\n",
    "    left_elbow_left_wrist_distance_list = []\n",
    "    left_hip_left_knee_distance_list = []\n",
    "    std_list = []\n",
    "    \n",
    "    for i in range(len(action_list)):\n",
    "        left_shoulder_right_shoulder_distance = math.hypot(action_list[i][11].x-action_list[i][12].x, action_list[i][11].y-action_list[i][12].y)\n",
    "        left_shoulder_left_elbow_distance = math.hypot(action_list[i][11].x-action_list[i][13].x, action_list[i][11].y-action_list[i][13].y)\n",
    "        left_elbow_left_wrist_distance = math.hypot(action_list[i][13].x-action_list[i][15].x, action_list[i][13].y-action_list[i][15].y)\n",
    "        left_hip_left_knee_distance = math.hypot(action_list[i][23].x-action_list[i][25].x, action_list[i][23].y-action_list[i][25].y)\n",
    "    \n",
    "        left_shoulder_right_shoulder_distance_list.append(left_shoulder_right_shoulder_distance)\n",
    "        left_shoulder_left_elbow_distance_list.append(left_shoulder_left_elbow_distance)\n",
    "        left_elbow_left_wrist_distance_list.append(left_elbow_left_wrist_distance)\n",
    "        left_hip_left_knee_distance_list.append(left_hip_left_knee_distance)\n",
    "        \n",
    "    std0 = np.array(left_shoulder_right_shoulder_distance_list).std() \n",
    "    std1 = np.array(left_shoulder_left_elbow_distance_list).std()\n",
    "    std2 = np.array(left_elbow_left_wrist_distance_list).std()\n",
    "    std3 = np.array(left_hip_left_knee_distance_list).std()\n",
    "    std_list = [std0, std1, std2, std3]\n",
    "    std_min = min(std_list)\n",
    "    std_index = std_list.index(std_min)\n",
    "    if std_index == 0:\n",
    "        norm_list = left_shoulder_right_shoulder_distance_list\n",
    "    elif std_index == 1:\n",
    "        norm_list = left_shoulder_left_elbow_distance_list\n",
    "    elif std_index == 2:\n",
    "        norm_list = left_elbow_left_wrist_distance_list\n",
    "    elif std_index == 3:\n",
    "        norm_list = left_hip_left_knee_distance_list\n",
    "    return norm_list, std_index\n",
    "\n",
    "\n",
    "def calc_all(action_list):\n",
    "    norm_list, std_num = calc_baseline(action_list)\n",
    "\n",
    "    left_ankle_left_hip_distance_list = []\n",
    "    right_ankle_right_hip_distance_list = []\n",
    "    left_wrist_left_shoulder_distance_list = []\n",
    "    right_wrist_right_shoulder_distance_list = []\n",
    "    left_wrist_nose_distance_list = []\n",
    "    right_wrist_nose_distance_list = []\n",
    "    left_wrist_left_hip_distance_list = []\n",
    "    right_wrist_right_hip_distance_list = []\n",
    "    \n",
    "    for i in range(len(action_list)):\n",
    "        left_ankle_left_hip_distance        = math.hypot(action_list[i][27].x-action_list[i][23].x, action_list[i][27].y-action_list[i][23].y)\n",
    "        right_ankle_right_hip_distance      = math.hypot(action_list[i][28].x-action_list[i][24].x, action_list[i][28].y-action_list[i][24].y)\n",
    "        left_wrist_left_shoulder_distance   = math.hypot(action_list[i][15].x-action_list[i][11].x, action_list[i][15].y-action_list[i][11].y)\n",
    "        right_wrist_right_shoulder_distance = math.hypot(action_list[i][16].x-action_list[i][12].x, action_list[i][16].y-action_list[i][12].y)\n",
    "        left_wrist_nose_distance            = math.hypot(action_list[i][15].x-action_list[i][0].x, action_list[i][15].y-action_list[i][0].y)\n",
    "        right_wrist_nose_distance           = math.hypot(action_list[i][16].x-action_list[i][0].x, action_list[i][16].y-action_list[i][0].y)\n",
    "        left_wrist_left_hip_distance        = math.hypot(action_list[i][15].x-action_list[i][23].x, action_list[i][15].y-action_list[i][23].y)\n",
    "        right_wrist_right_hip_distance      = math.hypot(action_list[i][16].x-action_list[i][24].x, action_list[i][16].y-action_list[i][24].y)\n",
    "\n",
    "        left_ankle_left_hip_distance_list.append(left_ankle_left_hip_distance)\n",
    "        right_ankle_right_hip_distance_list.append(right_ankle_right_hip_distance)\n",
    "        left_wrist_left_shoulder_distance_list.append(left_wrist_left_shoulder_distance)\n",
    "        right_wrist_right_shoulder_distance_list.append(right_wrist_right_shoulder_distance)\n",
    "        left_wrist_nose_distance_list.append(left_wrist_nose_distance)\n",
    "        right_wrist_nose_distance_list.append(right_wrist_nose_distance)\n",
    "        left_wrist_left_hip_distance_list.append(left_wrist_left_hip_distance)\n",
    "        right_wrist_right_hip_distance_list.append(right_wrist_right_hip_distance)\n",
    "        \n",
    "    # 计算速度\n",
    "    left_ankle_velocity_list = []\n",
    "    right_ankle_velocity_list = []\n",
    "    left_hip_velocity_list = []\n",
    "    right_hip_velocity_list = []\n",
    "    left_wrist_velocity_list = []\n",
    "    right_wrist_velocity_list = []\n",
    "\n",
    "    for i in range(len(action_list)-1):\n",
    "        left_ankle_velocity     = math.hypot(action_list[i+1][27].x-action_list[i][27].x, action_list[i+1][27].y-action_list[i][27].y)/cut_frame\n",
    "        right_ankle_velocity    = math.hypot(action_list[i+1][28].x-action_list[i][28].x, action_list[i+1][28].y-action_list[i][28].y)/cut_frame\n",
    "        left_hip_velocity       = math.hypot(action_list[i+1][23].x-action_list[i][23].x, action_list[i+1][23].y-action_list[i][23].y)/cut_frame\n",
    "        right_hip_velocity      = math.hypot(action_list[i+1][24].x-action_list[i][24].x, action_list[i+1][24].y-action_list[i][24].y)/cut_frame\n",
    "        left_wrist_velocity     = math.hypot(action_list[i+1][15].x-action_list[i][15].x, action_list[i+1][15].y-action_list[i][15].y)/cut_frame\n",
    "        right_wrist_velocity    = math.hypot(action_list[i+1][16].x-action_list[i][16].x, action_list[i+1][16].y-action_list[i][16].y)/cut_frame\n",
    "\n",
    "        left_ankle_velocity_list.append(left_ankle_velocity)\n",
    "        right_ankle_velocity_list.append(right_ankle_velocity)\n",
    "        left_hip_velocity_list.append(left_hip_velocity)\n",
    "        right_hip_velocity_list.append(right_hip_velocity)\n",
    "        left_wrist_velocity_list.append(left_wrist_velocity)\n",
    "        right_wrist_velocity_list.append(right_wrist_velocity)\n",
    "        \n",
    "    # 计算加速度\n",
    "    left_ankle_acceleration_list = []\n",
    "    right_ankle_acceleration_list = []\n",
    "    left_hip_acceleration_list = []\n",
    "    right_hip_acceleration_list = []\n",
    "    left_wrist_acceleration_list = []\n",
    "    right_wrist_acceleration_list = []\n",
    "\n",
    "    for i in range(len(action_list)-2):\n",
    "        left_ankle_acceleration = (left_ankle_velocity_list[i+1]-left_ankle_velocity_list[i])/cut_frame\n",
    "        right_ankle_acceleration= (right_ankle_velocity_list[i+1]-right_ankle_velocity_list[i])/cut_frame\n",
    "        left_hip_acceleration   = (left_hip_velocity_list[i+1]-left_hip_velocity_list[i])/cut_frame \n",
    "        right_hip_acceleration  = (right_hip_velocity_list[i+1]-right_hip_velocity_list[i])/cut_frame \n",
    "        left_wrist_acceleration = (left_wrist_velocity_list[i+1]-left_wrist_velocity_list[i])/cut_frame  \n",
    "        right_wrist_acceleration= (right_wrist_velocity_list[i+1]-right_wrist_velocity_list[i])/cut_frame\n",
    "\n",
    "        left_ankle_acceleration_list.append(left_ankle_acceleration)\n",
    "        right_ankle_acceleration_list.append(right_ankle_acceleration)\n",
    "        left_hip_acceleration_list.append(left_hip_acceleration)\n",
    "        right_hip_acceleration_list.append(right_hip_acceleration)\n",
    "        left_wrist_acceleration_list.append(left_wrist_acceleration)\n",
    "        right_wrist_acceleration_list.append(right_wrist_acceleration)\n",
    "    \n",
    "    # 计算DataFrame\n",
    "    LMA_measurement = { \n",
    "        \n",
    "                    'norm_d': pd.Series(data = norm_list),\n",
    "    \n",
    "                    #Body\n",
    "                   'l_ankle_l_hip_d': pd.Series(data = left_ankle_left_hip_distance_list),\n",
    "                   'r_ankle_r_hip_d': pd.Series(data = right_ankle_right_hip_distance_list),\n",
    "                   'l_wrist_nose_d': pd.Series(data = left_wrist_nose_distance_list),\n",
    "                   'r_wrist_nose_d': pd.Series(data = right_wrist_nose_distance_list),\n",
    "                   'l_wrist_l_hip_d': pd.Series(data = left_wrist_left_hip_distance_list),\n",
    "                   'r_wrist_r_hip_d': pd.Series(data = right_wrist_right_hip_distance_list),\n",
    "                    #Effort velocity\n",
    "                   'l_ankle_v': pd.Series(data = left_ankle_velocity_list),\n",
    "                   'r_ankle_v': pd.Series(data = right_ankle_velocity_list),\n",
    "                   'l_hip_v': pd.Series(data = left_hip_velocity_list),\n",
    "                   'r_hip_v': pd.Series(data = right_hip_velocity_list),\n",
    "                   'l_wrist_v': pd.Series(data = left_wrist_velocity_list),\n",
    "                   'r_wrist_v': pd.Series(data = right_wrist_velocity_list),\n",
    "                    #Effort acceleration\n",
    "                   'l_ankle_a': pd.Series(data = left_ankle_acceleration_list),\n",
    "                   'r_ankle_a': pd.Series(data = right_ankle_acceleration_list),\n",
    "                   'l_hip_a': pd.Series(data = left_hip_acceleration_list),\n",
    "                   'r_hip_a': pd.Series(data = right_hip_acceleration_list),\n",
    "                   'l_wrist_a': pd.Series(data = left_wrist_acceleration_list),\n",
    "                   'r_wrist_a': pd.Series(data = right_wrist_acceleration_list),   \n",
    "                  }\n",
    "    # 处理DataFrame\n",
    "    LMA_measurement_df = pd.DataFrame(LMA_measurement)\n",
    "\n",
    "    # 根据std位置不同，选择不同norm数据\n",
    "    if std_num == 0:\n",
    "        norm = LMA_measurement_df['norm_d']/40\n",
    "    elif std_num == 1:\n",
    "        norm = LMA_measurement_df['norm_d']/30\n",
    "    elif std_num == 2:\n",
    "        norm = LMA_measurement_df['norm_d']/25\n",
    "    elif std_num == 3:\n",
    "        norm = LMA_measurement_df['norm_d']/60\n",
    "    Seven_LMA_measurement_norm_df = LMA_measurement_df.iloc[:, :7].div(norm, axis=0) \n",
    "    LMA_measurement_norm_df = pd.concat([Seven_LMA_measurement_norm_df, LMA_measurement_df.iloc[:, 7:]], axis=1)\n",
    "    LMA_measurement_norm_df = LMA_measurement_norm_df.dropna()\n",
    "    LMA_measurement_norm_df = LMA_measurement_norm_df.drop(columns = ['norm_d']) \n",
    "    return LMA_measurement_norm_df\n",
    "\n",
    "# 归一化处理函数\n",
    "def calc_norm(action_df):\n",
    "    normalized = np.arctan(MinMaxScaler().fit_transform(action_df.T).T)\n",
    "    norm_action_df = pd.DataFrame(normalized, columns=action_df.columns)\n",
    "    return norm_action_df"
   ]
  },
  {
   "cell_type": "code",
   "execution_count": 7,
   "id": "7c8dae07",
   "metadata": {},
   "outputs": [
    {
     "name": "stdout",
     "output_type": "stream",
     "text": [
      "Afraid\n",
      "folder_1\n",
      "folder_2\n",
      "folder_3\n",
      "folder_4\n",
      "folder_5\n",
      "folder_6\n",
      "folder_7\n",
      "folder_8\n",
      "folder_9\n",
      "Excited\n",
      "folder_1\n",
      "folder_2\n",
      "folder_3\n",
      "folder_4\n",
      "folder_5\n",
      "folder_6\n",
      "folder_7\n",
      "folder_8\n",
      "folder_9\n",
      "Annoyed\n",
      "folder_1\n",
      "folder_2\n",
      "folder_3\n",
      "folder_4\n",
      "folder_5\n",
      "folder_6\n",
      "folder_7\n",
      "folder_8\n",
      "folder_9\n",
      "Bored\n",
      "folder_1\n",
      "folder_2\n",
      "folder_3\n",
      "folder_4\n",
      "folder_5\n",
      "folder_6\n",
      "folder_7\n",
      "folder_8\n",
      "folder_9\n",
      "Happy\n",
      "folder_1\n",
      "folder_2\n",
      "folder_3\n",
      "folder_4\n",
      "folder_5\n",
      "folder_6\n",
      "folder_7\n",
      "folder_8\n",
      "Angry\n",
      "folder_1\n",
      "folder_2\n",
      "folder_3\n",
      "folder_4\n",
      "folder_5\n",
      "folder_6\n",
      "folder_7\n",
      "folder_8\n",
      "folder_9\n"
     ]
    }
   ],
   "source": [
    "cut_frame = 10\n",
    "\n",
    "static_xy_list = []\n",
    "lma_list = []\n",
    "array_history = []\n",
    "label_list = []\n",
    "\n",
    "train_path =  os.path.join(r\"D:\\anaconda\\git\\DANCE\\BC_Dance_Clip_Change1\\train\")\n",
    "for sub_folder in actions:\n",
    "    print(sub_folder)\n",
    "    for category_folder in os.listdir(train_path +'\\\\'+ sub_folder):\n",
    "        print(category_folder)\n",
    "        current_frame = 0\n",
    "        for file in os.listdir(train_path + '\\\\'+ sub_folder + '\\\\' + category_folder):\n",
    "            file_path = train_path + '\\\\'+ sub_folder + '\\\\' + category_folder + '\\\\' + file\n",
    "#             print(file_path)\n",
    "            res = np.load(file_path, allow_pickle=True)\n",
    "            keypoints_xy_list = []\n",
    "            # 只提取精简之后关键点\n",
    "            for k in indices_to_keep:\n",
    "                keypoint_xy = np.array([res[k].x, res[k].y])\n",
    "                keypoints_xy_list.append(keypoint_xy)\n",
    "            static_xy_list.append(np.array(keypoints_xy_list).flatten())\n",
    "            \n",
    "            if current_frame % 10 == 0:\n",
    "                lma_list.append(res)\n",
    "                \n",
    "            current_frame = current_frame + 1\n",
    "            \n",
    "            if len(lma_list) == 3:\n",
    "                lma_df = calc_all(lma_list)\n",
    "                norm_lma_df = calc_norm(lma_df)\n",
    "                norm_lma_np = norm_lma_df.values\n",
    "                norm_lma_1np = norm_lma_np.reshape(-1)\n",
    "                np_static_xy_list = np.array(static_xy_list)\n",
    "                tem_merge = np.concatenate((np_static_xy_list, np.tile(norm_lma_1np, (np_static_xy_list.shape[0], 1))), axis=1)\n",
    "                array_history.append(tem_merge)\n",
    "                \n",
    "                for i in range(len(np_static_xy_list)):\n",
    "                    label_list.append(label_map[sub_folder])\n",
    "                    \n",
    "                static_xy_list = []\n",
    "                lma_list = []\n",
    "\n",
    "# 最终融合后的二维np数组\n",
    "merge_train = np.vstack(array_history) "
   ]
  },
  {
   "cell_type": "code",
   "execution_count": 8,
   "id": "38ad461b",
   "metadata": {},
   "outputs": [
    {
     "data": {
      "text/plain": [
       "(26553, 44)"
      ]
     },
     "execution_count": 8,
     "metadata": {},
     "output_type": "execute_result"
    }
   ],
   "source": [
    "merge_train.shape"
   ]
  },
  {
   "cell_type": "code",
   "execution_count": 9,
   "id": "dc4588fc",
   "metadata": {},
   "outputs": [
    {
     "data": {
      "text/plain": [
       "26553"
      ]
     },
     "execution_count": 9,
     "metadata": {},
     "output_type": "execute_result"
    }
   ],
   "source": [
    "len(label_list)"
   ]
  },
  {
   "cell_type": "code",
   "execution_count": 10,
   "id": "6ec8c890",
   "metadata": {},
   "outputs": [
    {
     "name": "stdout",
     "output_type": "stream",
     "text": [
      "4509 4509 4509 4509\n"
     ]
    }
   ],
   "source": [
    "counter = Counter(label_list)\n",
    "Afraid_num =  counter[0]\n",
    "Annoyed_num = counter[1]\n",
    "Bored_num = counter[2]\n",
    "Excied_num = counter[3]\n",
    "print(Afraid_num, Annoyed_num,Bored_num, Excied_num)"
   ]
  },
  {
   "cell_type": "code",
   "execution_count": 11,
   "id": "df5a120f",
   "metadata": {},
   "outputs": [],
   "source": [
    "# 整理训练集\n",
    "X_train = merge_train\n",
    "y_train = to_categorical(label_list).astype(int)"
   ]
  },
  {
   "cell_type": "code",
   "execution_count": 12,
   "id": "75d8257e",
   "metadata": {},
   "outputs": [
    {
     "name": "stdout",
     "output_type": "stream",
     "text": [
      "Afraid\n",
      "folder_9\n",
      "Excited\n",
      "folder_9\n",
      "Annoyed\n",
      "folder_9\n",
      "Bored\n",
      "folder_9\n",
      "Happy\n",
      "folder_9\n",
      "Angry\n",
      "folder_9\n"
     ]
    }
   ],
   "source": [
    "cut_frame = 10\n",
    "\n",
    "static_xy_list = []\n",
    "lma_list = []\n",
    "array_history = []\n",
    "test_label_list = []\n",
    "\n",
    "test_path =  os.path.join(r\"D:\\anaconda\\git\\DANCE\\BC_Dance_Clip_Change1\\test\")\n",
    "for sub_folder in actions:\n",
    "    print(sub_folder)\n",
    "    for category_folder in os.listdir(test_path +'\\\\'+ sub_folder):\n",
    "        print(category_folder)\n",
    "        current_frame = 0\n",
    "        for file in os.listdir(test_path + '\\\\'+ sub_folder + '\\\\' + category_folder):\n",
    "            file_path = test_path + '\\\\'+ sub_folder + '\\\\' + category_folder + '\\\\' + file\n",
    "#             print(file_path)\n",
    "            res = np.load(file_path, allow_pickle=True)\n",
    "            keypoints_xy_list = []\n",
    "            for k in indices_to_keep:\n",
    "                keypoint_xy = np.array([res[k].x, res[k].y])\n",
    "                keypoints_xy_list.append(keypoint_xy)\n",
    "            static_xy_list.append(np.array(keypoints_xy_list).flatten())\n",
    "            \n",
    "            if current_frame % 10 == 0:\n",
    "                lma_list.append(res)\n",
    "                \n",
    "            current_frame = current_frame + 1\n",
    "            \n",
    "            if len(lma_list) == 3:\n",
    "                lma_df = calc_all(lma_list)\n",
    "                norm_lma_df = calc_norm(lma_df)\n",
    "                norm_lma_np = norm_lma_df.values\n",
    "                norm_lma_1np = norm_lma_np.reshape(-1)\n",
    "                np_static_xy_list = np.array(static_xy_list)\n",
    "                tem_merge = np.concatenate((np_static_xy_list, np.tile(norm_lma_1np, (np_static_xy_list.shape[0], 1))), axis=1)\n",
    "                array_history.append(tem_merge)\n",
    "                \n",
    "                for i in range(len(np_static_xy_list)):\n",
    "                    test_label_list.append(label_map[sub_folder])\n",
    "                    \n",
    "                static_xy_list = []\n",
    "                lma_list = []\n",
    "\n",
    "# 最终融合后的二维np数组\n",
    "test_merge_train = np.vstack(array_history)"
   ]
  },
  {
   "cell_type": "code",
   "execution_count": 13,
   "id": "d7e3b9dc",
   "metadata": {},
   "outputs": [
    {
     "data": {
      "text/plain": [
       "(3006, 44)"
      ]
     },
     "execution_count": 13,
     "metadata": {},
     "output_type": "execute_result"
    }
   ],
   "source": [
    "test_merge_train.shape"
   ]
  },
  {
   "cell_type": "code",
   "execution_count": 14,
   "id": "5dc6b2ed",
   "metadata": {},
   "outputs": [
    {
     "data": {
      "text/plain": [
       "3006"
      ]
     },
     "execution_count": 14,
     "metadata": {},
     "output_type": "execute_result"
    }
   ],
   "source": [
    "len(test_label_list)"
   ]
  },
  {
   "cell_type": "code",
   "execution_count": 15,
   "id": "1f75c76f",
   "metadata": {},
   "outputs": [
    {
     "name": "stdout",
     "output_type": "stream",
     "text": [
      "501 501 501 501\n"
     ]
    }
   ],
   "source": [
    "counter = Counter(test_label_list)\n",
    "Afraid_num =  counter[0]\n",
    "Annoyed_num = counter[1]\n",
    "Bored_num = counter[2]\n",
    "Excied_num = counter[3]\n",
    "print(Afraid_num, Annoyed_num,Bored_num, Excied_num)"
   ]
  },
  {
   "cell_type": "code",
   "execution_count": 16,
   "id": "5efe47b5",
   "metadata": {},
   "outputs": [],
   "source": [
    "# 整理测试集\n",
    "X_test = test_merge_train\n",
    "y_test = to_categorical(test_label_list).astype(int)"
   ]
  },
  {
   "cell_type": "code",
   "execution_count": 17,
   "id": "49ae4158",
   "metadata": {},
   "outputs": [],
   "source": [
    "train_indices = np.random.permutation(X_train.shape[0])\n",
    "test_indices =  np.random.permutation(X_test.shape[0])"
   ]
  },
  {
   "cell_type": "code",
   "execution_count": 18,
   "id": "4ccf3114",
   "metadata": {},
   "outputs": [],
   "source": [
    "X_train = X_train[train_indices]\n",
    "y_train = y_train[train_indices]\n",
    "\n",
    "X_test = X_test[test_indices]\n",
    "y_test = y_test[test_indices]"
   ]
  },
  {
   "cell_type": "code",
   "execution_count": 19,
   "id": "6c0be517",
   "metadata": {},
   "outputs": [
    {
     "data": {
      "text/plain": [
       "((26553, 44), (26553, 6), (3006, 44), (3006, 6))"
      ]
     },
     "execution_count": 19,
     "metadata": {},
     "output_type": "execute_result"
    }
   ],
   "source": [
    "X_train.shape, y_train.shape, X_test.shape, y_test.shape"
   ]
  },
  {
   "cell_type": "code",
   "execution_count": 20,
   "id": "b31e4bd6",
   "metadata": {},
   "outputs": [],
   "source": [
    "np.random.seed(0)\n",
    "tf.random.set_seed(0)"
   ]
  },
  {
   "cell_type": "code",
   "execution_count": 21,
   "id": "7efe8dc1",
   "metadata": {},
   "outputs": [],
   "source": [
    "from tensorflow.keras.layers import Dropout\n",
    "\n",
    "# 搭模型进行训练\n",
    "def train_and_test_model(X_train, y_train, X_test, y_test):\n",
    "    \n",
    "    # 搭建模型\n",
    "    model = Sequential()  \n",
    "    model.add(Dense(256, activation='relu', input_shape=(44, )))\n",
    "#    model.add(Dropout(0.1))\n",
    "    model.add(Dense(128, activation='relu'))\n",
    "    model.add(Dense(64, activation='relu'))\n",
    "    model.add(Dense(32, activation='relu'))\n",
    "#     model.add(Dropout(0.1))\n",
    "    model.add(Dense(16, activation='relu'))\n",
    "#     model.add(Dropout(0.5))\n",
    "    model.add(Dense(8, activation='relu'))\n",
    "#     model.add(Dropout(0.5))\n",
    "    model.add(Dense(6, activation='softmax'))\n",
    "\n",
    "#     编译模型 调试参数\n",
    "#     learning_rate = 0.001\n",
    "#     batch_size = 32\n",
    "#     optimizer = Adam(learning_rate=learning_rate)\n",
    "#     model.compile(optimizer=optimizer, loss='categorical_crossentropy', metrics=['categorical_accuracy'])\n",
    "    \n",
    "#     编译模型 默认参数\n",
    "    model.compile(optimizer='Adam', loss='categorical_crossentropy', metrics=['categorical_accuracy'])\n",
    "\n",
    "    # 训练\n",
    "    history = model.fit(X_train, y_train, epochs=50, validation_data=(X_test, y_test))\n",
    "    plt.plot(history.history['categorical_accuracy'])\n",
    "    plt.plot(history.history['val_categorical_accuracy'])\n",
    "    plt.title('Model Accuracy')\n",
    "    plt.ylabel('Percentage')\n",
    "    plt.xlabel('Epoch')\n",
    "    plt.legend(['train','test'])\n",
    "    plt.show()\n",
    "    # summarize history for loss\n",
    "    plt.plot(history.history['loss'])\n",
    "    plt.plot(history.history['val_loss'])\n",
    "    plt.title('Model Loss')\n",
    "    plt.ylabel('Loss')\n",
    "    plt.xlabel('Epoch')\n",
    "    plt.legend(['train','test'])\n",
    "    plt.show()\n",
    "    # 查看模型结构\n",
    "    model.summary()\n",
    "    return model"
   ]
  },
  {
   "cell_type": "code",
   "execution_count": 22,
   "id": "0154a15c",
   "metadata": {},
   "outputs": [
    {
     "name": "stdout",
     "output_type": "stream",
     "text": [
      "Epoch 1/50\n"
     ]
    },
    {
     "name": "stderr",
     "output_type": "stream",
     "text": [
      "D:\\anaconda\\envs\\SAM1\\Lib\\site-packages\\keras\\src\\layers\\core\\dense.py:87: UserWarning: Do not pass an `input_shape`/`input_dim` argument to a layer. When using Sequential models, prefer using an `Input(shape)` object as the first layer in the model instead.\n",
      "  super().__init__(activity_regularizer=activity_regularizer, **kwargs)\n"
     ]
    },
    {
     "name": "stdout",
     "output_type": "stream",
     "text": [
      "\u001b[1m830/830\u001b[0m \u001b[32m━━━━━━━━━━━━━━━━━━━━\u001b[0m\u001b[37m\u001b[0m \u001b[1m4s\u001b[0m 3ms/step - categorical_accuracy: 0.2443 - loss: 1.7120 - val_categorical_accuracy: 0.1727 - val_loss: 1.9207\n",
      "Epoch 2/50\n",
      "\u001b[1m830/830\u001b[0m \u001b[32m━━━━━━━━━━━━━━━━━━━━\u001b[0m\u001b[37m\u001b[0m \u001b[1m2s\u001b[0m 2ms/step - categorical_accuracy: 0.3962 - loss: 1.4580 - val_categorical_accuracy: 0.1996 - val_loss: 1.8762\n",
      "Epoch 3/50\n",
      "\u001b[1m830/830\u001b[0m \u001b[32m━━━━━━━━━━━━━━━━━━━━\u001b[0m\u001b[37m\u001b[0m \u001b[1m2s\u001b[0m 2ms/step - categorical_accuracy: 0.4314 - loss: 1.3694 - val_categorical_accuracy: 0.2472 - val_loss: 1.8072\n",
      "Epoch 4/50\n",
      "\u001b[1m830/830\u001b[0m \u001b[32m━━━━━━━━━━━━━━━━━━━━\u001b[0m\u001b[37m\u001b[0m \u001b[1m2s\u001b[0m 2ms/step - categorical_accuracy: 0.4691 - loss: 1.2879 - val_categorical_accuracy: 0.2372 - val_loss: 1.8546\n",
      "Epoch 5/50\n",
      "\u001b[1m830/830\u001b[0m \u001b[32m━━━━━━━━━━━━━━━━━━━━\u001b[0m\u001b[37m\u001b[0m \u001b[1m2s\u001b[0m 2ms/step - categorical_accuracy: 0.4952 - loss: 1.2261 - val_categorical_accuracy: 0.2851 - val_loss: 1.7898\n",
      "Epoch 6/50\n",
      "\u001b[1m830/830\u001b[0m \u001b[32m━━━━━━━━━━━━━━━━━━━━\u001b[0m\u001b[37m\u001b[0m \u001b[1m3s\u001b[0m 2ms/step - categorical_accuracy: 0.5338 - loss: 1.1497 - val_categorical_accuracy: 0.3480 - val_loss: 1.7279\n",
      "Epoch 7/50\n",
      "\u001b[1m830/830\u001b[0m \u001b[32m━━━━━━━━━━━━━━━━━━━━\u001b[0m\u001b[37m\u001b[0m \u001b[1m2s\u001b[0m 2ms/step - categorical_accuracy: 0.5680 - loss: 1.0796 - val_categorical_accuracy: 0.3606 - val_loss: 1.6922\n",
      "Epoch 8/50\n",
      "\u001b[1m830/830\u001b[0m \u001b[32m━━━━━━━━━━━━━━━━━━━━\u001b[0m\u001b[37m\u001b[0m \u001b[1m1s\u001b[0m 1ms/step - categorical_accuracy: 0.5924 - loss: 1.0184 - val_categorical_accuracy: 0.3723 - val_loss: 1.6674\n",
      "Epoch 9/50\n",
      "\u001b[1m830/830\u001b[0m \u001b[32m━━━━━━━━━━━━━━━━━━━━\u001b[0m\u001b[37m\u001b[0m \u001b[1m2s\u001b[0m 2ms/step - categorical_accuracy: 0.6156 - loss: 0.9636 - val_categorical_accuracy: 0.4142 - val_loss: 1.6281\n",
      "Epoch 10/50\n",
      "\u001b[1m830/830\u001b[0m \u001b[32m━━━━━━━━━━━━━━━━━━━━\u001b[0m\u001b[37m\u001b[0m \u001b[1m2s\u001b[0m 2ms/step - categorical_accuracy: 0.6409 - loss: 0.9134 - val_categorical_accuracy: 0.4029 - val_loss: 1.7343\n",
      "Epoch 11/50\n",
      "\u001b[1m830/830\u001b[0m \u001b[32m━━━━━━━━━━━━━━━━━━━━\u001b[0m\u001b[37m\u001b[0m \u001b[1m2s\u001b[0m 2ms/step - categorical_accuracy: 0.6625 - loss: 0.8572 - val_categorical_accuracy: 0.4534 - val_loss: 1.5915\n",
      "Epoch 12/50\n",
      "\u001b[1m830/830\u001b[0m \u001b[32m━━━━━━━━━━━━━━━━━━━━\u001b[0m\u001b[37m\u001b[0m \u001b[1m2s\u001b[0m 2ms/step - categorical_accuracy: 0.6808 - loss: 0.8162 - val_categorical_accuracy: 0.4647 - val_loss: 1.6276\n",
      "Epoch 13/50\n",
      "\u001b[1m830/830\u001b[0m \u001b[32m━━━━━━━━━━━━━━━━━━━━\u001b[0m\u001b[37m\u001b[0m \u001b[1m3s\u001b[0m 2ms/step - categorical_accuracy: 0.6984 - loss: 0.7760 - val_categorical_accuracy: 0.5366 - val_loss: 1.5140\n",
      "Epoch 14/50\n",
      "\u001b[1m830/830\u001b[0m \u001b[32m━━━━━━━━━━━━━━━━━━━━\u001b[0m\u001b[37m\u001b[0m \u001b[1m1s\u001b[0m 2ms/step - categorical_accuracy: 0.7220 - loss: 0.7199 - val_categorical_accuracy: 0.5549 - val_loss: 1.5671\n",
      "Epoch 15/50\n",
      "\u001b[1m830/830\u001b[0m \u001b[32m━━━━━━━━━━━━━━━━━━━━\u001b[0m\u001b[37m\u001b[0m \u001b[1m1s\u001b[0m 2ms/step - categorical_accuracy: 0.7443 - loss: 0.6745 - val_categorical_accuracy: 0.5958 - val_loss: 1.6104\n",
      "Epoch 16/50\n",
      "\u001b[1m830/830\u001b[0m \u001b[32m━━━━━━━━━━━━━━━━━━━━\u001b[0m\u001b[37m\u001b[0m \u001b[1m3s\u001b[0m 2ms/step - categorical_accuracy: 0.7623 - loss: 0.6294 - val_categorical_accuracy: 0.5519 - val_loss: 1.6704\n",
      "Epoch 17/50\n",
      "\u001b[1m830/830\u001b[0m \u001b[32m━━━━━━━━━━━━━━━━━━━━\u001b[0m\u001b[37m\u001b[0m \u001b[1m2s\u001b[0m 2ms/step - categorical_accuracy: 0.7769 - loss: 0.5913 - val_categorical_accuracy: 0.6251 - val_loss: 1.4747\n",
      "Epoch 18/50\n",
      "\u001b[1m830/830\u001b[0m \u001b[32m━━━━━━━━━━━━━━━━━━━━\u001b[0m\u001b[37m\u001b[0m \u001b[1m3s\u001b[0m 2ms/step - categorical_accuracy: 0.8009 - loss: 0.5327 - val_categorical_accuracy: 0.6660 - val_loss: 1.3762\n",
      "Epoch 19/50\n",
      "\u001b[1m830/830\u001b[0m \u001b[32m━━━━━━━━━━━━━━━━━━━━\u001b[0m\u001b[37m\u001b[0m \u001b[1m1s\u001b[0m 2ms/step - categorical_accuracy: 0.8143 - loss: 0.5064 - val_categorical_accuracy: 0.6750 - val_loss: 1.5324\n",
      "Epoch 20/50\n",
      "\u001b[1m830/830\u001b[0m \u001b[32m━━━━━━━━━━━━━━━━━━━━\u001b[0m\u001b[37m\u001b[0m \u001b[1m2s\u001b[0m 2ms/step - categorical_accuracy: 0.8297 - loss: 0.4624 - val_categorical_accuracy: 0.7016 - val_loss: 1.4360\n",
      "Epoch 21/50\n",
      "\u001b[1m830/830\u001b[0m \u001b[32m━━━━━━━━━━━━━━━━━━━━\u001b[0m\u001b[37m\u001b[0m \u001b[1m2s\u001b[0m 2ms/step - categorical_accuracy: 0.8451 - loss: 0.4209 - val_categorical_accuracy: 0.7106 - val_loss: 1.4748\n",
      "Epoch 22/50\n",
      "\u001b[1m830/830\u001b[0m \u001b[32m━━━━━━━━━━━━━━━━━━━━\u001b[0m\u001b[37m\u001b[0m \u001b[1m2s\u001b[0m 2ms/step - categorical_accuracy: 0.8608 - loss: 0.3852 - val_categorical_accuracy: 0.7725 - val_loss: 1.3752\n",
      "Epoch 23/50\n",
      "\u001b[1m830/830\u001b[0m \u001b[32m━━━━━━━━━━━━━━━━━━━━\u001b[0m\u001b[37m\u001b[0m \u001b[1m3s\u001b[0m 2ms/step - categorical_accuracy: 0.8688 - loss: 0.3677 - val_categorical_accuracy: 0.7535 - val_loss: 1.4258\n",
      "Epoch 24/50\n",
      "\u001b[1m830/830\u001b[0m \u001b[32m━━━━━━━━━━━━━━━━━━━━\u001b[0m\u001b[37m\u001b[0m \u001b[1m2s\u001b[0m 2ms/step - categorical_accuracy: 0.8727 - loss: 0.3516 - val_categorical_accuracy: 0.7728 - val_loss: 1.5582\n",
      "Epoch 25/50\n",
      "\u001b[1m830/830\u001b[0m \u001b[32m━━━━━━━━━━━━━━━━━━━━\u001b[0m\u001b[37m\u001b[0m \u001b[1m2s\u001b[0m 2ms/step - categorical_accuracy: 0.8871 - loss: 0.3174 - val_categorical_accuracy: 0.7831 - val_loss: 1.4562\n",
      "Epoch 26/50\n",
      "\u001b[1m830/830\u001b[0m \u001b[32m━━━━━━━━━━━━━━━━━━━━\u001b[0m\u001b[37m\u001b[0m \u001b[1m2s\u001b[0m 2ms/step - categorical_accuracy: 0.8854 - loss: 0.3136 - val_categorical_accuracy: 0.7871 - val_loss: 1.5699\n",
      "Epoch 27/50\n",
      "\u001b[1m830/830\u001b[0m \u001b[32m━━━━━━━━━━━━━━━━━━━━\u001b[0m\u001b[37m\u001b[0m \u001b[1m2s\u001b[0m 2ms/step - categorical_accuracy: 0.8926 - loss: 0.2972 - val_categorical_accuracy: 0.7548 - val_loss: 1.7881\n",
      "Epoch 28/50\n",
      "\u001b[1m830/830\u001b[0m \u001b[32m━━━━━━━━━━━━━━━━━━━━\u001b[0m\u001b[37m\u001b[0m \u001b[1m2s\u001b[0m 2ms/step - categorical_accuracy: 0.9042 - loss: 0.2689 - val_categorical_accuracy: 0.7901 - val_loss: 1.6926\n",
      "Epoch 29/50\n",
      "\u001b[1m830/830\u001b[0m \u001b[32m━━━━━━━━━━━━━━━━━━━━\u001b[0m\u001b[37m\u001b[0m \u001b[1m2s\u001b[0m 2ms/step - categorical_accuracy: 0.9049 - loss: 0.2622 - val_categorical_accuracy: 0.7608 - val_loss: 1.7134\n",
      "Epoch 30/50\n",
      "\u001b[1m830/830\u001b[0m \u001b[32m━━━━━━━━━━━━━━━━━━━━\u001b[0m\u001b[37m\u001b[0m \u001b[1m2s\u001b[0m 2ms/step - categorical_accuracy: 0.9114 - loss: 0.2369 - val_categorical_accuracy: 0.7758 - val_loss: 1.7332\n",
      "Epoch 31/50\n",
      "\u001b[1m830/830\u001b[0m \u001b[32m━━━━━━━━━━━━━━━━━━━━\u001b[0m\u001b[37m\u001b[0m \u001b[1m2s\u001b[0m 1ms/step - categorical_accuracy: 0.9138 - loss: 0.2394 - val_categorical_accuracy: 0.8120 - val_loss: 1.7679\n",
      "Epoch 32/50\n",
      "\u001b[1m830/830\u001b[0m \u001b[32m━━━━━━━━━━━━━━━━━━━━\u001b[0m\u001b[37m\u001b[0m \u001b[1m2s\u001b[0m 2ms/step - categorical_accuracy: 0.9182 - loss: 0.2391 - val_categorical_accuracy: 0.7834 - val_loss: 1.8698\n",
      "Epoch 33/50\n",
      "\u001b[1m830/830\u001b[0m \u001b[32m━━━━━━━━━━━━━━━━━━━━\u001b[0m\u001b[37m\u001b[0m \u001b[1m2s\u001b[0m 2ms/step - categorical_accuracy: 0.9288 - loss: 0.2048 - val_categorical_accuracy: 0.7781 - val_loss: 1.8522\n",
      "Epoch 34/50\n",
      "\u001b[1m830/830\u001b[0m \u001b[32m━━━━━━━━━━━━━━━━━━━━\u001b[0m\u001b[37m\u001b[0m \u001b[1m2s\u001b[0m 2ms/step - categorical_accuracy: 0.9326 - loss: 0.1989 - val_categorical_accuracy: 0.8207 - val_loss: 1.5807\n",
      "Epoch 35/50\n",
      "\u001b[1m830/830\u001b[0m \u001b[32m━━━━━━━━━━━━━━━━━━━━\u001b[0m\u001b[37m\u001b[0m \u001b[1m3s\u001b[0m 2ms/step - categorical_accuracy: 0.9375 - loss: 0.1782 - val_categorical_accuracy: 0.8084 - val_loss: 1.7484\n",
      "Epoch 36/50\n",
      "\u001b[1m830/830\u001b[0m \u001b[32m━━━━━━━━━━━━━━━━━━━━\u001b[0m\u001b[37m\u001b[0m \u001b[1m1s\u001b[0m 2ms/step - categorical_accuracy: 0.9241 - loss: 0.2246 - val_categorical_accuracy: 0.8177 - val_loss: 1.7727\n",
      "Epoch 37/50\n",
      "\u001b[1m830/830\u001b[0m \u001b[32m━━━━━━━━━━━━━━━━━━━━\u001b[0m\u001b[37m\u001b[0m \u001b[1m2s\u001b[0m 2ms/step - categorical_accuracy: 0.9395 - loss: 0.1736 - val_categorical_accuracy: 0.8347 - val_loss: 1.8676\n",
      "Epoch 38/50\n",
      "\u001b[1m830/830\u001b[0m \u001b[32m━━━━━━━━━━━━━━━━━━━━\u001b[0m\u001b[37m\u001b[0m \u001b[1m2s\u001b[0m 2ms/step - categorical_accuracy: 0.9360 - loss: 0.1805 - val_categorical_accuracy: 0.8337 - val_loss: 1.6772\n",
      "Epoch 39/50\n",
      "\u001b[1m830/830\u001b[0m \u001b[32m━━━━━━━━━━━━━━━━━━━━\u001b[0m\u001b[37m\u001b[0m \u001b[1m2s\u001b[0m 2ms/step - categorical_accuracy: 0.9435 - loss: 0.1584 - val_categorical_accuracy: 0.8360 - val_loss: 1.6764\n",
      "Epoch 40/50\n",
      "\u001b[1m830/830\u001b[0m \u001b[32m━━━━━━━━━━━━━━━━━━━━\u001b[0m\u001b[37m\u001b[0m \u001b[1m2s\u001b[0m 2ms/step - categorical_accuracy: 0.9357 - loss: 0.1844 - val_categorical_accuracy: 0.7991 - val_loss: 1.8892\n",
      "Epoch 41/50\n",
      "\u001b[1m830/830\u001b[0m \u001b[32m━━━━━━━━━━━━━━━━━━━━\u001b[0m\u001b[37m\u001b[0m \u001b[1m2s\u001b[0m 2ms/step - categorical_accuracy: 0.9507 - loss: 0.1443 - val_categorical_accuracy: 0.8333 - val_loss: 1.5830\n",
      "Epoch 42/50\n",
      "\u001b[1m830/830\u001b[0m \u001b[32m━━━━━━━━━━━━━━━━━━━━\u001b[0m\u001b[37m\u001b[0m \u001b[1m3s\u001b[0m 2ms/step - categorical_accuracy: 0.9537 - loss: 0.1359 - val_categorical_accuracy: 0.8217 - val_loss: 1.6972\n",
      "Epoch 43/50\n",
      "\u001b[1m830/830\u001b[0m \u001b[32m━━━━━━━━━━━━━━━━━━━━\u001b[0m\u001b[37m\u001b[0m \u001b[1m2s\u001b[0m 2ms/step - categorical_accuracy: 0.9531 - loss: 0.1366 - val_categorical_accuracy: 0.8423 - val_loss: 1.7910\n",
      "Epoch 44/50\n",
      "\u001b[1m830/830\u001b[0m \u001b[32m━━━━━━━━━━━━━━━━━━━━\u001b[0m\u001b[37m\u001b[0m \u001b[1m2s\u001b[0m 2ms/step - categorical_accuracy: 0.9585 - loss: 0.1206 - val_categorical_accuracy: 0.8307 - val_loss: 2.0365\n",
      "Epoch 45/50\n",
      "\u001b[1m830/830\u001b[0m \u001b[32m━━━━━━━━━━━━━━━━━━━━\u001b[0m\u001b[37m\u001b[0m \u001b[1m2s\u001b[0m 2ms/step - categorical_accuracy: 0.9384 - loss: 0.1791 - val_categorical_accuracy: 0.8094 - val_loss: 1.8770\n",
      "Epoch 46/50\n",
      "\u001b[1m830/830\u001b[0m \u001b[32m━━━━━━━━━━━━━━━━━━━━\u001b[0m\u001b[37m\u001b[0m \u001b[1m2s\u001b[0m 2ms/step - categorical_accuracy: 0.9594 - loss: 0.1198 - val_categorical_accuracy: 0.8260 - val_loss: 1.7386\n",
      "Epoch 47/50\n",
      "\u001b[1m830/830\u001b[0m \u001b[32m━━━━━━━━━━━━━━━━━━━━\u001b[0m\u001b[37m\u001b[0m \u001b[1m2s\u001b[0m 2ms/step - categorical_accuracy: 0.9549 - loss: 0.1243 - val_categorical_accuracy: 0.8400 - val_loss: 1.6951\n",
      "Epoch 48/50\n",
      "\u001b[1m830/830\u001b[0m \u001b[32m━━━━━━━━━━━━━━━━━━━━\u001b[0m\u001b[37m\u001b[0m \u001b[1m2s\u001b[0m 2ms/step - categorical_accuracy: 0.9576 - loss: 0.1246 - val_categorical_accuracy: 0.7884 - val_loss: 2.0596\n",
      "Epoch 49/50\n",
      "\u001b[1m830/830\u001b[0m \u001b[32m━━━━━━━━━━━━━━━━━━━━\u001b[0m\u001b[37m\u001b[0m \u001b[1m2s\u001b[0m 2ms/step - categorical_accuracy: 0.9632 - loss: 0.1035 - val_categorical_accuracy: 0.7898 - val_loss: 1.9022\n",
      "Epoch 50/50\n",
      "\u001b[1m830/830\u001b[0m \u001b[32m━━━━━━━━━━━━━━━━━━━━\u001b[0m\u001b[37m\u001b[0m \u001b[1m2s\u001b[0m 2ms/step - categorical_accuracy: 0.9510 - loss: 0.1457 - val_categorical_accuracy: 0.8263 - val_loss: 2.1461\n"
     ]
    },
    {
     "data": {
      "image/png": "[encoded data removed]",
      "text/plain": [
       "<Figure size 640x480 with 1 Axes>"
      ]
     },
     "metadata": {},
     "output_type": "display_data"
    },
    {
     "data": {
      "image/png": "[encoded data removed]",
      "text/plain": [
       "<Figure size 640x480 with 1 Axes>"
      ]
     },
     "metadata": {},
     "output_type": "display_data"
    },
    {
     "data": {
      "text/html": [
       "<pre style=\"white-space:pre;overflow-x:auto;line-height:normal;font-family:Menlo,'DejaVu Sans Mono',consolas,'Courier New',monospace\"><span style=\"font-weight: bold\">Model: \"sequential\"</span>\n",
       "</pre>\n"
      ],
      "text/plain": [
       "\u001b[1mModel: \"sequential\"\u001b[0m\n"
      ]
     },
     "metadata": {},
     "output_type": "display_data"
    },
    {
     "data": {
      "text/html": [
       "<pre style=\"white-space:pre;overflow-x:auto;line-height:normal;font-family:Menlo,'DejaVu Sans Mono',consolas,'Courier New',monospace\">┏━━━━━━━━━━━━━━━━━━━━━━━━━━━━━━━━━━━━━━┳━━━━━━━━━━━━━━━━━━━━━━━━━━━━━┳━━━━━━━━━━━━━━━━━┓\n",
       "┃<span style=\"font-weight: bold\"> Layer (type)                         </span>┃<span style=\"font-weight: bold\"> Output Shape                </span>┃<span style=\"font-weight: bold\">         Param # </span>┃\n",
       "┡━━━━━━━━━━━━━━━━━━━━━━━━━━━━━━━━━━━━━━╇━━━━━━━━━━━━━━━━━━━━━━━━━━━━━╇━━━━━━━━━━━━━━━━━┩\n",
       "│ dense (<span style=\"color: #0087ff; text-decoration-color: #0087ff\">Dense</span>)                        │ (<span style=\"color: #00d7ff; text-decoration-color: #00d7ff\">None</span>, <span style=\"color: #00af00; text-decoration-color: #00af00\">256</span>)                 │          <span style=\"color: #00af00; text-decoration-color: #00af00\">11,520</span> │\n",
       "├──────────────────────────────────────┼─────────────────────────────┼─────────────────┤\n",
       "│ dense_1 (<span style=\"color: #0087ff; text-decoration-color: #0087ff\">Dense</span>)                      │ (<span style=\"color: #00d7ff; text-decoration-color: #00d7ff\">None</span>, <span style=\"color: #00af00; text-decoration-color: #00af00\">128</span>)                 │          <span style=\"color: #00af00; text-decoration-color: #00af00\">32,896</span> │\n",
       "├──────────────────────────────────────┼─────────────────────────────┼─────────────────┤\n",
       "│ dense_2 (<span style=\"color: #0087ff; text-decoration-color: #0087ff\">Dense</span>)                      │ (<span style=\"color: #00d7ff; text-decoration-color: #00d7ff\">None</span>, <span style=\"color: #00af00; text-decoration-color: #00af00\">64</span>)                  │           <span style=\"color: #00af00; text-decoration-color: #00af00\">8,256</span> │\n",
       "├──────────────────────────────────────┼─────────────────────────────┼─────────────────┤\n",
       "│ dense_3 (<span style=\"color: #0087ff; text-decoration-color: #0087ff\">Dense</span>)                      │ (<span style=\"color: #00d7ff; text-decoration-color: #00d7ff\">None</span>, <span style=\"color: #00af00; text-decoration-color: #00af00\">32</span>)                  │           <span style=\"color: #00af00; text-decoration-color: #00af00\">2,080</span> │\n",
       "├──────────────────────────────────────┼─────────────────────────────┼─────────────────┤\n",
       "│ dense_4 (<span style=\"color: #0087ff; text-decoration-color: #0087ff\">Dense</span>)                      │ (<span style=\"color: #00d7ff; text-decoration-color: #00d7ff\">None</span>, <span style=\"color: #00af00; text-decoration-color: #00af00\">16</span>)                  │             <span style=\"color: #00af00; text-decoration-color: #00af00\">528</span> │\n",
       "├──────────────────────────────────────┼─────────────────────────────┼─────────────────┤\n",
       "│ dense_5 (<span style=\"color: #0087ff; text-decoration-color: #0087ff\">Dense</span>)                      │ (<span style=\"color: #00d7ff; text-decoration-color: #00d7ff\">None</span>, <span style=\"color: #00af00; text-decoration-color: #00af00\">8</span>)                   │             <span style=\"color: #00af00; text-decoration-color: #00af00\">136</span> │\n",
       "├──────────────────────────────────────┼─────────────────────────────┼─────────────────┤\n",
       "│ dense_6 (<span style=\"color: #0087ff; text-decoration-color: #0087ff\">Dense</span>)                      │ (<span style=\"color: #00d7ff; text-decoration-color: #00d7ff\">None</span>, <span style=\"color: #00af00; text-decoration-color: #00af00\">6</span>)                   │              <span style=\"color: #00af00; text-decoration-color: #00af00\">54</span> │\n",
       "└──────────────────────────────────────┴─────────────────────────────┴─────────────────┘\n",
       "</pre>\n"
      ],
      "text/plain": [
       "┏━━━━━━━━━━━━━━━━━━━━━━━━━━━━━━━━━━━━━━┳━━━━━━━━━━━━━━━━━━━━━━━━━━━━━┳━━━━━━━━━━━━━━━━━┓\n",
       "┃\u001b[1m \u001b[0m\u001b[1mLayer (type)                        \u001b[0m\u001b[1m \u001b[0m┃\u001b[1m \u001b[0m\u001b[1mOutput Shape               \u001b[0m\u001b[1m \u001b[0m┃\u001b[1m \u001b[0m\u001b[1m        Param #\u001b[0m\u001b[1m \u001b[0m┃\n",
       "┡━━━━━━━━━━━━━━━━━━━━━━━━━━━━━━━━━━━━━━╇━━━━━━━━━━━━━━━━━━━━━━━━━━━━━╇━━━━━━━━━━━━━━━━━┩\n",
       "│ dense (\u001b[38;5;33mDense\u001b[0m)                        │ (\u001b[38;5;45mNone\u001b[0m, \u001b[38;5;34m256\u001b[0m)                 │          \u001b[38;5;34m11,520\u001b[0m │\n",
       "├──────────────────────────────────────┼─────────────────────────────┼─────────────────┤\n",
       "│ dense_1 (\u001b[38;5;33mDense\u001b[0m)                      │ (\u001b[38;5;45mNone\u001b[0m, \u001b[38;5;34m128\u001b[0m)                 │          \u001b[38;5;34m32,896\u001b[0m │\n",
       "├──────────────────────────────────────┼─────────────────────────────┼─────────────────┤\n",
       "│ dense_2 (\u001b[38;5;33mDense\u001b[0m)                      │ (\u001b[38;5;45mNone\u001b[0m, \u001b[38;5;34m64\u001b[0m)                  │           \u001b[38;5;34m8,256\u001b[0m │\n",
       "├──────────────────────────────────────┼─────────────────────────────┼─────────────────┤\n",
       "│ dense_3 (\u001b[38;5;33mDense\u001b[0m)                      │ (\u001b[38;5;45mNone\u001b[0m, \u001b[38;5;34m32\u001b[0m)                  │           \u001b[38;5;34m2,080\u001b[0m │\n",
       "├──────────────────────────────────────┼─────────────────────────────┼─────────────────┤\n",
       "│ dense_4 (\u001b[38;5;33mDense\u001b[0m)                      │ (\u001b[38;5;45mNone\u001b[0m, \u001b[38;5;34m16\u001b[0m)                  │             \u001b[38;5;34m528\u001b[0m │\n",
       "├──────────────────────────────────────┼─────────────────────────────┼─────────────────┤\n",
       "│ dense_5 (\u001b[38;5;33mDense\u001b[0m)                      │ (\u001b[38;5;45mNone\u001b[0m, \u001b[38;5;34m8\u001b[0m)                   │             \u001b[38;5;34m136\u001b[0m │\n",
       "├──────────────────────────────────────┼─────────────────────────────┼─────────────────┤\n",
       "│ dense_6 (\u001b[38;5;33mDense\u001b[0m)                      │ (\u001b[38;5;45mNone\u001b[0m, \u001b[38;5;34m6\u001b[0m)                   │              \u001b[38;5;34m54\u001b[0m │\n",
       "└──────────────────────────────────────┴─────────────────────────────┴─────────────────┘\n"
      ]
     },
     "metadata": {},
     "output_type": "display_data"
    },
    {
     "data": {
      "text/html": [
       "<pre style=\"white-space:pre;overflow-x:auto;line-height:normal;font-family:Menlo,'DejaVu Sans Mono',consolas,'Courier New',monospace\"><span style=\"font-weight: bold\"> Total params: </span><span style=\"color: #00af00; text-decoration-color: #00af00\">166,412</span> (650.05 KB)\n",
       "</pre>\n"
      ],
      "text/plain": [
       "\u001b[1m Total params: \u001b[0m\u001b[38;5;34m166,412\u001b[0m (650.05 KB)\n"
      ]
     },
     "metadata": {},
     "output_type": "display_data"
    },
    {
     "data": {
      "text/html": [
       "<pre style=\"white-space:pre;overflow-x:auto;line-height:normal;font-family:Menlo,'DejaVu Sans Mono',consolas,'Courier New',monospace\"><span style=\"font-weight: bold\"> Trainable params: </span><span style=\"color: #00af00; text-decoration-color: #00af00\">55,470</span> (216.68 KB)\n",
       "</pre>\n"
      ],
      "text/plain": [
       "\u001b[1m Trainable params: \u001b[0m\u001b[38;5;34m55,470\u001b[0m (216.68 KB)\n"
      ]
     },
     "metadata": {},
     "output_type": "display_data"
    },
    {
     "data": {
      "text/html": [
       "<pre style=\"white-space:pre;overflow-x:auto;line-height:normal;font-family:Menlo,'DejaVu Sans Mono',consolas,'Courier New',monospace\"><span style=\"font-weight: bold\"> Non-trainable params: </span><span style=\"color: #00af00; text-decoration-color: #00af00\">0</span> (0.00 B)\n",
       "</pre>\n"
      ],
      "text/plain": [
       "\u001b[1m Non-trainable params: \u001b[0m\u001b[38;5;34m0\u001b[0m (0.00 B)\n"
      ]
     },
     "metadata": {},
     "output_type": "display_data"
    },
    {
     "data": {
      "text/html": [
       "<pre style=\"white-space:pre;overflow-x:auto;line-height:normal;font-family:Menlo,'DejaVu Sans Mono',consolas,'Courier New',monospace\"><span style=\"font-weight: bold\"> Optimizer params: </span><span style=\"color: #00af00; text-decoration-color: #00af00\">110,942</span> (433.37 KB)\n",
       "</pre>\n"
      ],
      "text/plain": [
       "\u001b[1m Optimizer params: \u001b[0m\u001b[38;5;34m110,942\u001b[0m (433.37 KB)\n"
      ]
     },
     "metadata": {},
     "output_type": "display_data"
    }
   ],
   "source": [
    "model = train_and_test_model(X_train, y_train, X_test, y_test)"
   ]
  },
  {
   "cell_type": "code",
   "execution_count": 23,
   "id": "f35aeff4",
   "metadata": {},
   "outputs": [
    {
     "name": "stdout",
     "output_type": "stream",
     "text": [
      "\u001b[1m94/94\u001b[0m \u001b[32m━━━━━━━━━━━━━━━━━━━━\u001b[0m\u001b[37m\u001b[0m \u001b[1m0s\u001b[0m 2ms/step\n"
     ]
    },
    {
     "data": {
      "text/plain": [
       "0.8263473053892215"
      ]
     },
     "execution_count": 23,
     "metadata": {},
     "output_type": "execute_result"
    }
   ],
   "source": [
    "y_true = np.argmax(y_test, axis=1).tolist()\n",
    "y_pred_dnn = model.predict(X_test)\n",
    "y_pred_dnn = np.argmax(y_pred_dnn, axis=1).tolist()\n",
    "accuracy_score(y_true, y_pred_dnn)"
   ]
  },
  {
   "cell_type": "code",
   "execution_count": 24,
   "id": "fba50f2a",
   "metadata": {},
   "outputs": [
    {
     "name": "stdout",
     "output_type": "stream",
     "text": [
      "Deep Neural Network Classifier:\n",
      "\n"
     ]
    },
    {
     "data": {
      "text/plain": [
       "<sklearn.metrics._plot.confusion_matrix.ConfusionMatrixDisplay at 0x263050cf740>"
      ]
     },
     "execution_count": 24,
     "metadata": {},
     "output_type": "execute_result"
    },
    {
     "data": {
      "image/png": "[encoded data removed]",
      "text/plain": [
       "<Figure size 640x480 with 2 Axes>"
      ]
     },
     "metadata": {},
     "output_type": "display_data"
    }
   ],
   "source": [
    "print('Deep Neural Network Classifier:\\n')\n",
    "ConfusionMatrixDisplay.from_predictions(y_true,y_pred_dnn)"
   ]
  },
  {
   "cell_type": "code",
   "execution_count": 25,
   "id": "bfd4d8ba",
   "metadata": {},
   "outputs": [],
   "source": [
    "from sklearn.metrics import precision_score, recall_score, f1_score"
   ]
  },
  {
   "cell_type": "code",
   "execution_count": 26,
   "id": "5399d03f",
   "metadata": {},
   "outputs": [
    {
     "ename": "ValueError",
     "evalue": "Target is multiclass but average='binary'. Please choose another average setting, one of [None, 'micro', 'macro', 'weighted'].",
     "output_type": "error",
     "traceback": [
      "\u001b[1;31m---------------------------------------------------------------------------\u001b[0m",
      "\u001b[1;31mValueError\u001b[0m                                Traceback (most recent call last)",
      "Cell \u001b[1;32mIn[26], line 1\u001b[0m\n\u001b[1;32m----> 1\u001b[0m \u001b[38;5;28mprint\u001b[39m(\u001b[43mprecision_score\u001b[49m\u001b[43m(\u001b[49m\u001b[43my_true\u001b[49m\u001b[43m,\u001b[49m\u001b[43m \u001b[49m\u001b[43my_pred_dnn\u001b[49m\u001b[43m)\u001b[49m)\n\u001b[0;32m      2\u001b[0m \u001b[38;5;28mprint\u001b[39m(recall_score(y_true, y_pred_dnn))\n\u001b[0;32m      3\u001b[0m \u001b[38;5;28mprint\u001b[39m(f1_score(y_true, y_pred_dnn))\n",
      "File \u001b[1;32mD:\\anaconda\\envs\\SAM1\\Lib\\site-packages\\sklearn\\utils\\_param_validation.py:213\u001b[0m, in \u001b[0;36mvalidate_params.<locals>.decorator.<locals>.wrapper\u001b[1;34m(*args, **kwargs)\u001b[0m\n\u001b[0;32m    207\u001b[0m \u001b[38;5;28;01mtry\u001b[39;00m:\n\u001b[0;32m    208\u001b[0m     \u001b[38;5;28;01mwith\u001b[39;00m config_context(\n\u001b[0;32m    209\u001b[0m         skip_parameter_validation\u001b[38;5;241m=\u001b[39m(\n\u001b[0;32m    210\u001b[0m             prefer_skip_nested_validation \u001b[38;5;129;01mor\u001b[39;00m global_skip_validation\n\u001b[0;32m    211\u001b[0m         )\n\u001b[0;32m    212\u001b[0m     ):\n\u001b[1;32m--> 213\u001b[0m         \u001b[38;5;28;01mreturn\u001b[39;00m \u001b[43mfunc\u001b[49m\u001b[43m(\u001b[49m\u001b[38;5;241;43m*\u001b[39;49m\u001b[43margs\u001b[49m\u001b[43m,\u001b[49m\u001b[43m \u001b[49m\u001b[38;5;241;43m*\u001b[39;49m\u001b[38;5;241;43m*\u001b[39;49m\u001b[43mkwargs\u001b[49m\u001b[43m)\u001b[49m\n\u001b[0;32m    214\u001b[0m \u001b[38;5;28;01mexcept\u001b[39;00m InvalidParameterError \u001b[38;5;28;01mas\u001b[39;00m e:\n\u001b[0;32m    215\u001b[0m     \u001b[38;5;66;03m# When the function is just a wrapper around an estimator, we allow\u001b[39;00m\n\u001b[0;32m    216\u001b[0m     \u001b[38;5;66;03m# the function to delegate validation to the estimator, but we replace\u001b[39;00m\n\u001b[0;32m    217\u001b[0m     \u001b[38;5;66;03m# the name of the estimator by the name of the function in the error\u001b[39;00m\n\u001b[0;32m    218\u001b[0m     \u001b[38;5;66;03m# message to avoid confusion.\u001b[39;00m\n\u001b[0;32m    219\u001b[0m     msg \u001b[38;5;241m=\u001b[39m re\u001b[38;5;241m.\u001b[39msub(\n\u001b[0;32m    220\u001b[0m         \u001b[38;5;124mr\u001b[39m\u001b[38;5;124m\"\u001b[39m\u001b[38;5;124mparameter of \u001b[39m\u001b[38;5;124m\\\u001b[39m\u001b[38;5;124mw+ must be\u001b[39m\u001b[38;5;124m\"\u001b[39m,\n\u001b[0;32m    221\u001b[0m         \u001b[38;5;124mf\u001b[39m\u001b[38;5;124m\"\u001b[39m\u001b[38;5;124mparameter of \u001b[39m\u001b[38;5;132;01m{\u001b[39;00mfunc\u001b[38;5;241m.\u001b[39m\u001b[38;5;18m__qualname__\u001b[39m\u001b[38;5;132;01m}\u001b[39;00m\u001b[38;5;124m must be\u001b[39m\u001b[38;5;124m\"\u001b[39m,\n\u001b[0;32m    222\u001b[0m         \u001b[38;5;28mstr\u001b[39m(e),\n\u001b[0;32m    223\u001b[0m     )\n",
      "File \u001b[1;32mD:\\anaconda\\envs\\SAM1\\Lib\\site-packages\\sklearn\\metrics\\_classification.py:2204\u001b[0m, in \u001b[0;36mprecision_score\u001b[1;34m(y_true, y_pred, labels, pos_label, average, sample_weight, zero_division)\u001b[0m\n\u001b[0;32m   2037\u001b[0m \u001b[38;5;129m@validate_params\u001b[39m(\n\u001b[0;32m   2038\u001b[0m     {\n\u001b[0;32m   2039\u001b[0m         \u001b[38;5;124m\"\u001b[39m\u001b[38;5;124my_true\u001b[39m\u001b[38;5;124m\"\u001b[39m: [\u001b[38;5;124m\"\u001b[39m\u001b[38;5;124marray-like\u001b[39m\u001b[38;5;124m\"\u001b[39m, \u001b[38;5;124m\"\u001b[39m\u001b[38;5;124msparse matrix\u001b[39m\u001b[38;5;124m\"\u001b[39m],\n\u001b[1;32m   (...)\u001b[0m\n\u001b[0;32m   2064\u001b[0m     zero_division\u001b[38;5;241m=\u001b[39m\u001b[38;5;124m\"\u001b[39m\u001b[38;5;124mwarn\u001b[39m\u001b[38;5;124m\"\u001b[39m,\n\u001b[0;32m   2065\u001b[0m ):\n\u001b[0;32m   2066\u001b[0m \u001b[38;5;250m    \u001b[39m\u001b[38;5;124;03m\"\"\"Compute the precision.\u001b[39;00m\n\u001b[0;32m   2067\u001b[0m \n\u001b[0;32m   2068\u001b[0m \u001b[38;5;124;03m    The precision is the ratio ``tp / (tp + fp)`` where ``tp`` is the number of\u001b[39;00m\n\u001b[1;32m   (...)\u001b[0m\n\u001b[0;32m   2202\u001b[0m \u001b[38;5;124;03m    array([0.5, 1. , 1. ])\u001b[39;00m\n\u001b[0;32m   2203\u001b[0m \u001b[38;5;124;03m    \"\"\"\u001b[39;00m\n\u001b[1;32m-> 2204\u001b[0m     p, _, _, _ \u001b[38;5;241m=\u001b[39m \u001b[43mprecision_recall_fscore_support\u001b[49m\u001b[43m(\u001b[49m\n\u001b[0;32m   2205\u001b[0m \u001b[43m        \u001b[49m\u001b[43my_true\u001b[49m\u001b[43m,\u001b[49m\n\u001b[0;32m   2206\u001b[0m \u001b[43m        \u001b[49m\u001b[43my_pred\u001b[49m\u001b[43m,\u001b[49m\n\u001b[0;32m   2207\u001b[0m \u001b[43m        \u001b[49m\u001b[43mlabels\u001b[49m\u001b[38;5;241;43m=\u001b[39;49m\u001b[43mlabels\u001b[49m\u001b[43m,\u001b[49m\n\u001b[0;32m   2208\u001b[0m \u001b[43m        \u001b[49m\u001b[43mpos_label\u001b[49m\u001b[38;5;241;43m=\u001b[39;49m\u001b[43mpos_label\u001b[49m\u001b[43m,\u001b[49m\n\u001b[0;32m   2209\u001b[0m \u001b[43m        \u001b[49m\u001b[43maverage\u001b[49m\u001b[38;5;241;43m=\u001b[39;49m\u001b[43maverage\u001b[49m\u001b[43m,\u001b[49m\n\u001b[0;32m   2210\u001b[0m \u001b[43m        \u001b[49m\u001b[43mwarn_for\u001b[49m\u001b[38;5;241;43m=\u001b[39;49m\u001b[43m(\u001b[49m\u001b[38;5;124;43m\"\u001b[39;49m\u001b[38;5;124;43mprecision\u001b[39;49m\u001b[38;5;124;43m\"\u001b[39;49m\u001b[43m,\u001b[49m\u001b[43m)\u001b[49m\u001b[43m,\u001b[49m\n\u001b[0;32m   2211\u001b[0m \u001b[43m        \u001b[49m\u001b[43msample_weight\u001b[49m\u001b[38;5;241;43m=\u001b[39;49m\u001b[43msample_weight\u001b[49m\u001b[43m,\u001b[49m\n\u001b[0;32m   2212\u001b[0m \u001b[43m        \u001b[49m\u001b[43mzero_division\u001b[49m\u001b[38;5;241;43m=\u001b[39;49m\u001b[43mzero_division\u001b[49m\u001b[43m,\u001b[49m\n\u001b[0;32m   2213\u001b[0m \u001b[43m    \u001b[49m\u001b[43m)\u001b[49m\n\u001b[0;32m   2214\u001b[0m     \u001b[38;5;28;01mreturn\u001b[39;00m p\n",
      "File \u001b[1;32mD:\\anaconda\\envs\\SAM1\\Lib\\site-packages\\sklearn\\utils\\_param_validation.py:186\u001b[0m, in \u001b[0;36mvalidate_params.<locals>.decorator.<locals>.wrapper\u001b[1;34m(*args, **kwargs)\u001b[0m\n\u001b[0;32m    184\u001b[0m global_skip_validation \u001b[38;5;241m=\u001b[39m get_config()[\u001b[38;5;124m\"\u001b[39m\u001b[38;5;124mskip_parameter_validation\u001b[39m\u001b[38;5;124m\"\u001b[39m]\n\u001b[0;32m    185\u001b[0m \u001b[38;5;28;01mif\u001b[39;00m global_skip_validation:\n\u001b[1;32m--> 186\u001b[0m     \u001b[38;5;28;01mreturn\u001b[39;00m \u001b[43mfunc\u001b[49m\u001b[43m(\u001b[49m\u001b[38;5;241;43m*\u001b[39;49m\u001b[43margs\u001b[49m\u001b[43m,\u001b[49m\u001b[43m \u001b[49m\u001b[38;5;241;43m*\u001b[39;49m\u001b[38;5;241;43m*\u001b[39;49m\u001b[43mkwargs\u001b[49m\u001b[43m)\u001b[49m\n\u001b[0;32m    188\u001b[0m func_sig \u001b[38;5;241m=\u001b[39m signature(func)\n\u001b[0;32m    190\u001b[0m \u001b[38;5;66;03m# Map *args/**kwargs to the function signature\u001b[39;00m\n",
      "File \u001b[1;32mD:\\anaconda\\envs\\SAM1\\Lib\\site-packages\\sklearn\\metrics\\_classification.py:1789\u001b[0m, in \u001b[0;36mprecision_recall_fscore_support\u001b[1;34m(y_true, y_pred, beta, labels, pos_label, average, warn_for, sample_weight, zero_division)\u001b[0m\n\u001b[0;32m   1626\u001b[0m \u001b[38;5;250m\u001b[39m\u001b[38;5;124;03m\"\"\"Compute precision, recall, F-measure and support for each class.\u001b[39;00m\n\u001b[0;32m   1627\u001b[0m \n\u001b[0;32m   1628\u001b[0m \u001b[38;5;124;03mThe precision is the ratio ``tp / (tp + fp)`` where ``tp`` is the number of\u001b[39;00m\n\u001b[1;32m   (...)\u001b[0m\n\u001b[0;32m   1786\u001b[0m \u001b[38;5;124;03m array([2, 2, 2]))\u001b[39;00m\n\u001b[0;32m   1787\u001b[0m \u001b[38;5;124;03m\"\"\"\u001b[39;00m\n\u001b[0;32m   1788\u001b[0m _check_zero_division(zero_division)\n\u001b[1;32m-> 1789\u001b[0m labels \u001b[38;5;241m=\u001b[39m \u001b[43m_check_set_wise_labels\u001b[49m\u001b[43m(\u001b[49m\u001b[43my_true\u001b[49m\u001b[43m,\u001b[49m\u001b[43m \u001b[49m\u001b[43my_pred\u001b[49m\u001b[43m,\u001b[49m\u001b[43m \u001b[49m\u001b[43maverage\u001b[49m\u001b[43m,\u001b[49m\u001b[43m \u001b[49m\u001b[43mlabels\u001b[49m\u001b[43m,\u001b[49m\u001b[43m \u001b[49m\u001b[43mpos_label\u001b[49m\u001b[43m)\u001b[49m\n\u001b[0;32m   1791\u001b[0m \u001b[38;5;66;03m# Calculate tp_sum, pred_sum, true_sum ###\u001b[39;00m\n\u001b[0;32m   1792\u001b[0m samplewise \u001b[38;5;241m=\u001b[39m average \u001b[38;5;241m==\u001b[39m \u001b[38;5;124m\"\u001b[39m\u001b[38;5;124msamples\u001b[39m\u001b[38;5;124m\"\u001b[39m\n",
      "File \u001b[1;32mD:\\anaconda\\envs\\SAM1\\Lib\\site-packages\\sklearn\\metrics\\_classification.py:1578\u001b[0m, in \u001b[0;36m_check_set_wise_labels\u001b[1;34m(y_true, y_pred, average, labels, pos_label)\u001b[0m\n\u001b[0;32m   1576\u001b[0m         \u001b[38;5;28;01mif\u001b[39;00m y_type \u001b[38;5;241m==\u001b[39m \u001b[38;5;124m\"\u001b[39m\u001b[38;5;124mmulticlass\u001b[39m\u001b[38;5;124m\"\u001b[39m:\n\u001b[0;32m   1577\u001b[0m             average_options\u001b[38;5;241m.\u001b[39mremove(\u001b[38;5;124m\"\u001b[39m\u001b[38;5;124msamples\u001b[39m\u001b[38;5;124m\"\u001b[39m)\n\u001b[1;32m-> 1578\u001b[0m         \u001b[38;5;28;01mraise\u001b[39;00m \u001b[38;5;167;01mValueError\u001b[39;00m(\n\u001b[0;32m   1579\u001b[0m             \u001b[38;5;124m\"\u001b[39m\u001b[38;5;124mTarget is \u001b[39m\u001b[38;5;132;01m%s\u001b[39;00m\u001b[38;5;124m but average=\u001b[39m\u001b[38;5;124m'\u001b[39m\u001b[38;5;124mbinary\u001b[39m\u001b[38;5;124m'\u001b[39m\u001b[38;5;124m. Please \u001b[39m\u001b[38;5;124m\"\u001b[39m\n\u001b[0;32m   1580\u001b[0m             \u001b[38;5;124m\"\u001b[39m\u001b[38;5;124mchoose another average setting, one of \u001b[39m\u001b[38;5;132;01m%r\u001b[39;00m\u001b[38;5;124m.\u001b[39m\u001b[38;5;124m\"\u001b[39m \u001b[38;5;241m%\u001b[39m (y_type, average_options)\n\u001b[0;32m   1581\u001b[0m         )\n\u001b[0;32m   1582\u001b[0m \u001b[38;5;28;01melif\u001b[39;00m pos_label \u001b[38;5;129;01mnot\u001b[39;00m \u001b[38;5;129;01min\u001b[39;00m (\u001b[38;5;28;01mNone\u001b[39;00m, \u001b[38;5;241m1\u001b[39m):\n\u001b[0;32m   1583\u001b[0m     warnings\u001b[38;5;241m.\u001b[39mwarn(\n\u001b[0;32m   1584\u001b[0m         \u001b[38;5;124m\"\u001b[39m\u001b[38;5;124mNote that pos_label (set to \u001b[39m\u001b[38;5;132;01m%r\u001b[39;00m\u001b[38;5;124m) is ignored when \u001b[39m\u001b[38;5;124m\"\u001b[39m\n\u001b[0;32m   1585\u001b[0m         \u001b[38;5;124m\"\u001b[39m\u001b[38;5;124maverage != \u001b[39m\u001b[38;5;124m'\u001b[39m\u001b[38;5;124mbinary\u001b[39m\u001b[38;5;124m'\u001b[39m\u001b[38;5;124m (got \u001b[39m\u001b[38;5;132;01m%r\u001b[39;00m\u001b[38;5;124m). You may use \u001b[39m\u001b[38;5;124m\"\u001b[39m\n\u001b[1;32m   (...)\u001b[0m\n\u001b[0;32m   1588\u001b[0m         \u001b[38;5;167;01mUserWarning\u001b[39;00m,\n\u001b[0;32m   1589\u001b[0m     )\n",
      "\u001b[1;31mValueError\u001b[0m: Target is multiclass but average='binary'. Please choose another average setting, one of [None, 'micro', 'macro', 'weighted']."
     ]
    }
   ],
   "source": [
    "print(precision_score(y_true, y_pred_dnn))\n",
    "print(recall_score(y_true, y_pred_dnn))\n",
    "print(f1_score(y_true, y_pred_dnn))"
   ]
  },
  {
   "cell_type": "code",
   "execution_count": null,
   "id": "a512297c",
   "metadata": {},
   "outputs": [],
   "source": [
    "# 经典机器学习方法结果检查\n",
    "from sklearn.ensemble import RandomForestClassifier, GradientBoostingClassifier\n",
    "from sklearn.linear_model import LogisticRegression\n",
    "from sklearn.tree import DecisionTreeClassifier\n",
    "from sklearn.svm import LinearSVC\n",
    "from sklearn.naive_bayes import GaussianNB"
   ]
  },
  {
   "cell_type": "code",
   "execution_count": null,
   "id": "509bddb1",
   "metadata": {},
   "outputs": [],
   "source": [
    "# 固定随机数种子\n",
    "seed = 1"
   ]
  },
  {
   "cell_type": "code",
   "execution_count": null,
   "id": "752b943c",
   "metadata": {},
   "outputs": [],
   "source": [
    "# Random Forest Classifier\n",
    "forest = RandomForestClassifier(random_state=seed)\n",
    "forest.fit(X_train,y_train)\n",
    "y_pred_forest = forest.predict(X_test)\n",
    "y_true = np.argmax(y_test, axis=1).tolist()\n",
    "y_pred_forest = np.argmax(y_pred_forest, axis=1).tolist()\n",
    "accuracy_score(y_true, y_pred_forest)"
   ]
  },
  {
   "cell_type": "code",
   "execution_count": null,
   "id": "31cdaf81",
   "metadata": {},
   "outputs": [],
   "source": [
    "print('Random Forest Classifier:\\n')\n",
    "ConfusionMatrixDisplay.from_predictions(y_true,y_pred_forest)"
   ]
  },
  {
   "cell_type": "code",
   "execution_count": null,
   "id": "4839ba64",
   "metadata": {},
   "outputs": [],
   "source": [
    "precision_score(y_true, y_pred_forest)"
   ]
  },
  {
   "cell_type": "code",
   "execution_count": null,
   "id": "33dc5e56",
   "metadata": {},
   "outputs": [],
   "source": [
    "recall_score(y_true, y_pred_forest)"
   ]
  },
  {
   "cell_type": "code",
   "execution_count": null,
   "id": "897537d3",
   "metadata": {},
   "outputs": [],
   "source": [
    "f1_score(y_true, y_pred_forest)"
   ]
  },
  {
   "cell_type": "code",
   "execution_count": null,
   "id": "80239d62",
   "metadata": {},
   "outputs": [],
   "source": [
    "# logistics regression\n",
    "linear = LogisticRegression(max_iter=2000, random_state=seed)\n",
    "y_train_1d = np.argmax(y_train, axis=1)\n",
    "linear.fit(X_train, y_train_1d)\n",
    "y_pred_linear = linear.predict(X_test)\n",
    "accuracy_score(y_true, y_pred_linear)"
   ]
  },
  {
   "cell_type": "code",
   "execution_count": null,
   "id": "41b8da29",
   "metadata": {},
   "outputs": [],
   "source": [
    "print('Linear Classifier:\\n')\n",
    "ConfusionMatrixDisplay.from_predictions(y_true, y_pred_linear)"
   ]
  },
  {
   "cell_type": "code",
   "execution_count": null,
   "id": "9c92f057",
   "metadata": {},
   "outputs": [],
   "source": [
    "precision_score(y_true, y_pred_linear)"
   ]
  },
  {
   "cell_type": "code",
   "execution_count": null,
   "id": "1ba41a2c",
   "metadata": {},
   "outputs": [],
   "source": [
    "recall_score(y_true, y_pred_linear)"
   ]
  },
  {
   "cell_type": "code",
   "execution_count": null,
   "id": "95bab205",
   "metadata": {},
   "outputs": [],
   "source": [
    "f1_score(y_true, y_pred_linear)"
   ]
  },
  {
   "cell_type": "code",
   "execution_count": null,
   "id": "c3e3501a",
   "metadata": {},
   "outputs": [],
   "source": [
    "# decison tree\n",
    "tree = DecisionTreeClassifier(random_state=seed)\n",
    "tree.fit(X_train, y_train)\n",
    "y_pred_tree = tree.predict(X_test)\n",
    "y_true = np.argmax(y_test, axis=1).tolist()\n",
    "y_pred_tree = np.argmax(y_pred_tree, axis=1).tolist()\n",
    "accuracy_score(y_true, y_pred_tree)"
   ]
  },
  {
   "cell_type": "code",
   "execution_count": null,
   "id": "152562e6",
   "metadata": {},
   "outputs": [],
   "source": [
    "print('Decision Tree Classifier:\\n')\n",
    "ConfusionMatrixDisplay.from_predictions(y_true,y_pred_tree)"
   ]
  },
  {
   "cell_type": "code",
   "execution_count": null,
   "id": "5c15d23a",
   "metadata": {},
   "outputs": [],
   "source": [
    "precision_score(y_true, y_pred_tree)"
   ]
  },
  {
   "cell_type": "code",
   "execution_count": null,
   "id": "6ef13f32",
   "metadata": {},
   "outputs": [],
   "source": [
    "recall_score(y_true, y_pred_tree)"
   ]
  },
  {
   "cell_type": "code",
   "execution_count": null,
   "id": "0f2b509e",
   "metadata": {},
   "outputs": [],
   "source": [
    "f1_score(y_true, y_pred_tree)"
   ]
  },
  {
   "cell_type": "code",
   "execution_count": null,
   "id": "e0dfbd28",
   "metadata": {},
   "outputs": [],
   "source": [
    "# SVM\n",
    "svm = LinearSVC(max_iter=2500, random_state=seed)\n",
    "y_train_1d = np.argmax(y_train, axis=1)\n",
    "svm.fit(X_train, y_train_1d)\n",
    "y_pred_svm = svm.predict(X_test)\n",
    "accuracy_score(y_true, y_pred_svm)"
   ]
  },
  {
   "cell_type": "code",
   "execution_count": null,
   "id": "9aa2486b",
   "metadata": {},
   "outputs": [],
   "source": [
    "print('SVM Classifier:\\n')\n",
    "ConfusionMatrixDisplay.from_predictions(y_true,y_pred_svm)"
   ]
  },
  {
   "cell_type": "code",
   "execution_count": null,
   "id": "0360af8a",
   "metadata": {},
   "outputs": [],
   "source": [
    "precision_score(y_true, y_pred_svm)"
   ]
  },
  {
   "cell_type": "code",
   "execution_count": null,
   "id": "b831cff9",
   "metadata": {},
   "outputs": [],
   "source": [
    "recall_score(y_true, y_pred_svm)"
   ]
  },
  {
   "cell_type": "code",
   "execution_count": null,
   "id": "b08dc586",
   "metadata": {},
   "outputs": [],
   "source": [
    "f1_score(y_true, y_pred_svm)"
   ]
  },
  {
   "cell_type": "code",
   "execution_count": null,
   "id": "4f5defa0",
   "metadata": {},
   "outputs": [],
   "source": [
    "# Naive bayes\n",
    "bayes = GaussianNB()\n",
    "y_train_1d = np.argmax(y_train, axis=1)\n",
    "bayes.fit(X_train, y_train_1d)\n",
    "y_pred_bayes = bayes.predict(X_test)\n",
    "accuracy_score(y_true, y_pred_bayes)"
   ]
  },
  {
   "cell_type": "code",
   "execution_count": null,
   "id": "b957f9c8",
   "metadata": {},
   "outputs": [],
   "source": [
    "print('Naive Bayes Classifier:\\n')\n",
    "ConfusionMatrixDisplay.from_predictions(y_true,y_pred_bayes)"
   ]
  },
  {
   "cell_type": "code",
   "execution_count": null,
   "id": "bc938e5e",
   "metadata": {},
   "outputs": [],
   "source": [
    "precision_score(y_true, y_pred_bayes)"
   ]
  },
  {
   "cell_type": "code",
   "execution_count": null,
   "id": "fb3350cc",
   "metadata": {},
   "outputs": [],
   "source": [
    "recall_score(y_true, y_pred_bayes)"
   ]
  },
  {
   "cell_type": "code",
   "execution_count": null,
   "id": "194ac0a1",
   "metadata": {},
   "outputs": [],
   "source": [
    "f1_score(y_true, y_pred_bayes)"
   ]
  },
  {
   "cell_type": "code",
   "execution_count": null,
   "id": "bec869a4",
   "metadata": {},
   "outputs": [],
   "source": []
  }
 ],
 "metadata": {
  "kernelspec": {
   "display_name": "Python 3 (ipykernel)",
   "language": "python",
   "name": "python3"
  },
  "language_info": {
   "codemirror_mode": {
    "name": "ipython",
    "version": 3
   },
   "file_extension": ".py",
   "mimetype": "text/x-python",
   "name": "python",
   "nbconvert_exporter": "python",
   "pygments_lexer": "ipython3",
   "version": "3.12.5"
  }
 },
 "nbformat": 4,
 "nbformat_minor": 5
}
